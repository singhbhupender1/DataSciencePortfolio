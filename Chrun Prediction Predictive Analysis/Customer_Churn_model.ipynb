{
  "nbformat": 4,
  "nbformat_minor": 0,
  "metadata": {
    "colab": {
      "name": "Customer Churn model.ipynb",
      "provenance": []
    },
    "kernelspec": {
      "name": "python3",
      "display_name": "Python 3"
    },
    "accelerator": "GPU"
  },
  "cells": [
    {
      "cell_type": "markdown",
      "metadata": {
        "id": "9VBOvQeO2ccb",
        "colab_type": "text"
      },
      "source": [
        "#User Churn Prediction\n",
        "In this project, we use supervised learning models to identify customers who are likely to stop using service in the future. Furthermore, we will analyze top factors that influence user retention."
      ]
    },
    {
      "cell_type": "markdown",
      "metadata": {
        "id": "SWQi5uQ_2i2t",
        "colab_type": "text"
      },
      "source": [
        "##Contents\n",
        "* [Part 1: Data Exploration](#Part-1:-Data-Exploration)\n",
        "\n",
        "* [Part 2: Feature Preprocessing](#Part-2:-Feature-Preprocessing)\n",
        "\n",
        "* [Part 3: Model Training and Results Evaluation](#Part-3:-Model-Training-and-Result-Evaluation)\n",
        "\n",
        "* [Part 4: Feature Selection](#Part-4:-Feature-Selection)\n",
        "\n",
        "* [Part 5: Use Probabilities as Prediction Results](#Part-5:-Use-Probabilities-as-Prediction-Results)"
      ]
    },
    {
      "cell_type": "markdown",
      "metadata": {
        "id": "8d_Aft6t25EF",
        "colab_type": "text"
      },
      "source": [
        "#Part 1: Data Exploration\n",
        "###Part 1.1: Understand the Raw Dataset"
      ]
    },
    {
      "cell_type": "code",
      "metadata": {
        "id": "1RKi1d83rPtG",
        "colab_type": "code",
        "colab": {}
      },
      "source": [
        "import warnings\n",
        "warnings.filterwarnings('ignore')\n",
        "\n",
        "import os\n",
        "import pandas as pd\n",
        "import numpy as np\n",
        "pd.set_option('display.max_columns', None)"
      ],
      "execution_count": 0,
      "outputs": []
    },
    {
      "cell_type": "code",
      "metadata": {
        "id": "-JT33Kuqr_p5",
        "colab_type": "code",
        "colab": {}
      },
      "source": [
        " churn_df = pd.read_csv('churn.all.csv')"
      ],
      "execution_count": 0,
      "outputs": []
    },
    {
      "cell_type": "code",
      "metadata": {
        "id": "FJPCLJ3wsFuh",
        "colab_type": "code",
        "colab": {
          "base_uri": "https://localhost:8080/",
          "height": 215
        },
        "outputId": "a406725f-b192-4ed3-c16b-99beb615fc5d"
      },
      "source": [
        "churn_df.head()"
      ],
      "execution_count": 5,
      "outputs": [
        {
          "output_type": "execute_result",
          "data": {
            "text/html": [
              "<div>\n",
              "<style scoped>\n",
              "    .dataframe tbody tr th:only-of-type {\n",
              "        vertical-align: middle;\n",
              "    }\n",
              "\n",
              "    .dataframe tbody tr th {\n",
              "        vertical-align: top;\n",
              "    }\n",
              "\n",
              "    .dataframe thead th {\n",
              "        text-align: right;\n",
              "    }\n",
              "</style>\n",
              "<table border=\"1\" class=\"dataframe\">\n",
              "  <thead>\n",
              "    <tr style=\"text-align: right;\">\n",
              "      <th></th>\n",
              "      <th>state</th>\n",
              "      <th>account_length</th>\n",
              "      <th>area_code</th>\n",
              "      <th>phone_number</th>\n",
              "      <th>intl_plan</th>\n",
              "      <th>voice_mail_plan</th>\n",
              "      <th>number_vmail_messages</th>\n",
              "      <th>total_day_minutes</th>\n",
              "      <th>total_day_calls</th>\n",
              "      <th>total_day_charge</th>\n",
              "      <th>total_eve_minutes</th>\n",
              "      <th>total_eve_calls</th>\n",
              "      <th>total_eve_charge</th>\n",
              "      <th>total_night_minutes</th>\n",
              "      <th>total_night_calls</th>\n",
              "      <th>total_night_charge</th>\n",
              "      <th>total_intl_minutes</th>\n",
              "      <th>total_intl_calls</th>\n",
              "      <th>total_intl_charge</th>\n",
              "      <th>number_customer_service_calls</th>\n",
              "      <th>churned</th>\n",
              "    </tr>\n",
              "  </thead>\n",
              "  <tbody>\n",
              "    <tr>\n",
              "      <th>0</th>\n",
              "      <td>KS</td>\n",
              "      <td>128</td>\n",
              "      <td>415</td>\n",
              "      <td>382-4657</td>\n",
              "      <td>no</td>\n",
              "      <td>yes</td>\n",
              "      <td>25</td>\n",
              "      <td>265.1</td>\n",
              "      <td>110</td>\n",
              "      <td>45.07</td>\n",
              "      <td>197.4</td>\n",
              "      <td>99</td>\n",
              "      <td>16.78</td>\n",
              "      <td>244.7</td>\n",
              "      <td>91</td>\n",
              "      <td>11.01</td>\n",
              "      <td>10.0</td>\n",
              "      <td>3</td>\n",
              "      <td>2.70</td>\n",
              "      <td>1</td>\n",
              "      <td>False.</td>\n",
              "    </tr>\n",
              "    <tr>\n",
              "      <th>1</th>\n",
              "      <td>OH</td>\n",
              "      <td>107</td>\n",
              "      <td>415</td>\n",
              "      <td>371-7191</td>\n",
              "      <td>no</td>\n",
              "      <td>yes</td>\n",
              "      <td>26</td>\n",
              "      <td>161.6</td>\n",
              "      <td>123</td>\n",
              "      <td>27.47</td>\n",
              "      <td>195.5</td>\n",
              "      <td>103</td>\n",
              "      <td>16.62</td>\n",
              "      <td>254.4</td>\n",
              "      <td>103</td>\n",
              "      <td>11.45</td>\n",
              "      <td>13.7</td>\n",
              "      <td>3</td>\n",
              "      <td>3.70</td>\n",
              "      <td>1</td>\n",
              "      <td>False.</td>\n",
              "    </tr>\n",
              "    <tr>\n",
              "      <th>2</th>\n",
              "      <td>NJ</td>\n",
              "      <td>137</td>\n",
              "      <td>415</td>\n",
              "      <td>358-1921</td>\n",
              "      <td>no</td>\n",
              "      <td>no</td>\n",
              "      <td>0</td>\n",
              "      <td>243.4</td>\n",
              "      <td>114</td>\n",
              "      <td>41.38</td>\n",
              "      <td>121.2</td>\n",
              "      <td>110</td>\n",
              "      <td>10.30</td>\n",
              "      <td>162.6</td>\n",
              "      <td>104</td>\n",
              "      <td>7.32</td>\n",
              "      <td>12.2</td>\n",
              "      <td>5</td>\n",
              "      <td>3.29</td>\n",
              "      <td>0</td>\n",
              "      <td>False.</td>\n",
              "    </tr>\n",
              "    <tr>\n",
              "      <th>3</th>\n",
              "      <td>OH</td>\n",
              "      <td>84</td>\n",
              "      <td>408</td>\n",
              "      <td>375-9999</td>\n",
              "      <td>yes</td>\n",
              "      <td>no</td>\n",
              "      <td>0</td>\n",
              "      <td>299.4</td>\n",
              "      <td>71</td>\n",
              "      <td>50.90</td>\n",
              "      <td>61.9</td>\n",
              "      <td>88</td>\n",
              "      <td>5.26</td>\n",
              "      <td>196.9</td>\n",
              "      <td>89</td>\n",
              "      <td>8.86</td>\n",
              "      <td>6.6</td>\n",
              "      <td>7</td>\n",
              "      <td>1.78</td>\n",
              "      <td>2</td>\n",
              "      <td>False.</td>\n",
              "    </tr>\n",
              "    <tr>\n",
              "      <th>4</th>\n",
              "      <td>OK</td>\n",
              "      <td>75</td>\n",
              "      <td>415</td>\n",
              "      <td>330-6626</td>\n",
              "      <td>yes</td>\n",
              "      <td>no</td>\n",
              "      <td>0</td>\n",
              "      <td>166.7</td>\n",
              "      <td>113</td>\n",
              "      <td>28.34</td>\n",
              "      <td>148.3</td>\n",
              "      <td>122</td>\n",
              "      <td>12.61</td>\n",
              "      <td>186.9</td>\n",
              "      <td>121</td>\n",
              "      <td>8.41</td>\n",
              "      <td>10.1</td>\n",
              "      <td>3</td>\n",
              "      <td>2.73</td>\n",
              "      <td>3</td>\n",
              "      <td>False.</td>\n",
              "    </tr>\n",
              "  </tbody>\n",
              "</table>\n",
              "</div>"
            ],
            "text/plain": [
              "  state  account_length  area_code phone_number intl_plan voice_mail_plan  \\\n",
              "0    KS             128        415     382-4657        no             yes   \n",
              "1    OH             107        415     371-7191        no             yes   \n",
              "2    NJ             137        415     358-1921        no              no   \n",
              "3    OH              84        408     375-9999       yes              no   \n",
              "4    OK              75        415     330-6626       yes              no   \n",
              "\n",
              "   number_vmail_messages  total_day_minutes  total_day_calls  \\\n",
              "0                     25              265.1              110   \n",
              "1                     26              161.6              123   \n",
              "2                      0              243.4              114   \n",
              "3                      0              299.4               71   \n",
              "4                      0              166.7              113   \n",
              "\n",
              "   total_day_charge  total_eve_minutes  total_eve_calls  total_eve_charge  \\\n",
              "0             45.07              197.4               99             16.78   \n",
              "1             27.47              195.5              103             16.62   \n",
              "2             41.38              121.2              110             10.30   \n",
              "3             50.90               61.9               88              5.26   \n",
              "4             28.34              148.3              122             12.61   \n",
              "\n",
              "   total_night_minutes  total_night_calls  total_night_charge  \\\n",
              "0                244.7                 91               11.01   \n",
              "1                254.4                103               11.45   \n",
              "2                162.6                104                7.32   \n",
              "3                196.9                 89                8.86   \n",
              "4                186.9                121                8.41   \n",
              "\n",
              "   total_intl_minutes  total_intl_calls  total_intl_charge  \\\n",
              "0                10.0                 3               2.70   \n",
              "1                13.7                 3               3.70   \n",
              "2                12.2                 5               3.29   \n",
              "3                 6.6                 7               1.78   \n",
              "4                10.1                 3               2.73   \n",
              "\n",
              "   number_customer_service_calls  churned  \n",
              "0                              1   False.  \n",
              "1                              1   False.  \n",
              "2                              0   False.  \n",
              "3                              2   False.  \n",
              "4                              3   False.  "
            ]
          },
          "metadata": {
            "tags": []
          },
          "execution_count": 5
        }
      ]
    },
    {
      "cell_type": "code",
      "metadata": {
        "id": "8X_UVWP_sJBa",
        "colab_type": "code",
        "colab": {
          "base_uri": "https://localhost:8080/",
          "height": 50
        },
        "outputId": "681c0c72-fe5f-4da3-9be2-d55afa59cd51"
      },
      "source": [
        "print (\"Num of rows: \" + str(churn_df.shape[0])) # row count\n",
        "print (\"Num of columns: \" + str(churn_df.shape[1])) # col count"
      ],
      "execution_count": 6,
      "outputs": [
        {
          "output_type": "stream",
          "text": [
            "Num of rows: 5000\n",
            "Num of columns: 21\n"
          ],
          "name": "stdout"
        }
      ]
    },
    {
      "cell_type": "markdown",
      "metadata": {
        "id": "6XKuLo4OsOtL",
        "colab_type": "text"
      },
      "source": [
        "###Part 1.2: Data cleaning\n",
        "Remove Extra Whitespace"
      ]
    },
    {
      "cell_type": "code",
      "metadata": {
        "id": "iKSadO4esMHg",
        "colab_type": "code",
        "colab": {
          "base_uri": "https://localhost:8080/",
          "height": 34
        },
        "outputId": "2aebfd0e-63f9-4675-ef48-7651a9101a0a"
      },
      "source": [
        "churn_df['voice_mail_plan'][0]\n"
      ],
      "execution_count": 7,
      "outputs": [
        {
          "output_type": "execute_result",
          "data": {
            "text/plain": [
              "' yes'"
            ]
          },
          "metadata": {
            "tags": []
          },
          "execution_count": 7
        }
      ]
    },
    {
      "cell_type": "code",
      "metadata": {
        "id": "Aflm5MW_sViJ",
        "colab_type": "code",
        "colab": {}
      },
      "source": [
        "churn_df['voice_mail_plan'] = churn_df['voice_mail_plan'].map(lambda x: x.strip())\n",
        "churn_df['intl_plan'] = churn_df['intl_plan'].map(lambda x: x.strip())\n",
        "churn_df['churned'] = churn_df['churned'].map(lambda x: x.strip())"
      ],
      "execution_count": 0,
      "outputs": []
    },
    {
      "cell_type": "markdown",
      "metadata": {
        "id": "RRwwEKbG3Vfr",
        "colab_type": "text"
      },
      "source": [
        "###Part 1.3: Understand the features"
      ]
    },
    {
      "cell_type": "code",
      "metadata": {
        "id": "V1_GXoGNsYcF",
        "colab_type": "code",
        "colab": {
          "base_uri": "https://localhost:8080/",
          "height": 298
        },
        "outputId": "e610203b-64cd-4298-bddf-58277c4646fa"
      },
      "source": [
        "%matplotlib inline\n",
        "import matplotlib.pyplot as plt\n",
        "import seaborn as sb\n",
        "sb.distplot(churn_df['total_intl_charge'], kde=False)"
      ],
      "execution_count": 10,
      "outputs": [
        {
          "output_type": "execute_result",
          "data": {
            "text/plain": [
              "<matplotlib.axes._subplots.AxesSubplot at 0x7f5d7bf3fe80>"
            ]
          },
          "metadata": {
            "tags": []
          },
          "execution_count": 10
        },
        {
          "output_type": "display_data",
          "data": {
            "image/png": "[encoded data removed]",
            "text/plain": [
              "<Figure size 432x288 with 1 Axes>"
            ]
          },
          "metadata": {
            "tags": []
          }
        }
      ]
    },
    {
      "cell_type": "code",
      "metadata": {
        "id": "kmk6vIITsewa",
        "colab_type": "code",
        "colab": {
          "base_uri": "https://localhost:8080/",
          "height": 403
        },
        "outputId": "5cc24178-e483-4665-b69a-9e10326a2a30"
      },
      "source": [
        "corr = churn_df[[\"account_length\", \"number_vmail_messages\", \"total_day_minutes\",\n",
        "                    \"total_day_calls\", \"total_day_charge\", \"total_eve_minutes\",\n",
        "                    \"total_eve_calls\", \"total_eve_charge\", \"total_night_minutes\",\n",
        "                    \"total_night_calls\", \"total_intl_minutes\", \"total_intl_calls\",\n",
        "                    \"total_intl_charge\"]].corr()\n",
        "\n",
        "sb.heatmap(corr)"
      ],
      "execution_count": 11,
      "outputs": [
        {
          "output_type": "execute_result",
          "data": {
            "text/plain": [
              "<matplotlib.axes._subplots.AxesSubplot at 0x7f5d7b9e7b00>"
            ]
          },
          "metadata": {
            "tags": []
          },
          "execution_count": 11
        },
        {
          "output_type": "display_data",
          "data": {
            "image/png": "[encoded data removed]",
            "text/plain": [
              "<Figure size 432x288 with 2 Axes>"
            ]
          },
          "metadata": {
            "tags": []
          }
        }
      ]
    },
    {
      "cell_type": "code",
      "metadata": {
        "id": "-Jd7WEaSsg_Q",
        "colab_type": "code",
        "colab": {
          "base_uri": "https://localhost:8080/",
          "height": 452
        },
        "outputId": "45feb2cd-4e86-4c7c-beed-97f35b334325"
      },
      "source": [
        "corr"
      ],
      "execution_count": 12,
      "outputs": [
        {
          "output_type": "execute_result",
          "data": {
            "text/html": [
              "<div>\n",
              "<style scoped>\n",
              "    .dataframe tbody tr th:only-of-type {\n",
              "        vertical-align: middle;\n",
              "    }\n",
              "\n",
              "    .dataframe tbody tr th {\n",
              "        vertical-align: top;\n",
              "    }\n",
              "\n",
              "    .dataframe thead th {\n",
              "        text-align: right;\n",
              "    }\n",
              "</style>\n",
              "<table border=\"1\" class=\"dataframe\">\n",
              "  <thead>\n",
              "    <tr style=\"text-align: right;\">\n",
              "      <th></th>\n",
              "      <th>account_length</th>\n",
              "      <th>number_vmail_messages</th>\n",
              "      <th>total_day_minutes</th>\n",
              "      <th>total_day_calls</th>\n",
              "      <th>total_day_charge</th>\n",
              "      <th>total_eve_minutes</th>\n",
              "      <th>total_eve_calls</th>\n",
              "      <th>total_eve_charge</th>\n",
              "      <th>total_night_minutes</th>\n",
              "      <th>total_night_calls</th>\n",
              "      <th>total_intl_minutes</th>\n",
              "      <th>total_intl_calls</th>\n",
              "      <th>total_intl_charge</th>\n",
              "    </tr>\n",
              "  </thead>\n",
              "  <tbody>\n",
              "    <tr>\n",
              "      <th>account_length</th>\n",
              "      <td>1.000000</td>\n",
              "      <td>-0.014575</td>\n",
              "      <td>-0.001017</td>\n",
              "      <td>0.028240</td>\n",
              "      <td>-0.001019</td>\n",
              "      <td>-0.009591</td>\n",
              "      <td>0.009143</td>\n",
              "      <td>-0.009587</td>\n",
              "      <td>0.000668</td>\n",
              "      <td>-0.007825</td>\n",
              "      <td>0.001291</td>\n",
              "      <td>0.014277</td>\n",
              "      <td>0.001292</td>\n",
              "    </tr>\n",
              "    <tr>\n",
              "      <th>number_vmail_messages</th>\n",
              "      <td>-0.014575</td>\n",
              "      <td>1.000000</td>\n",
              "      <td>0.005381</td>\n",
              "      <td>0.000883</td>\n",
              "      <td>0.005377</td>\n",
              "      <td>0.019490</td>\n",
              "      <td>-0.003954</td>\n",
              "      <td>0.019496</td>\n",
              "      <td>0.005541</td>\n",
              "      <td>0.002676</td>\n",
              "      <td>0.002463</td>\n",
              "      <td>0.000124</td>\n",
              "      <td>0.002505</td>\n",
              "    </tr>\n",
              "    <tr>\n",
              "      <th>total_day_minutes</th>\n",
              "      <td>-0.001017</td>\n",
              "      <td>0.005381</td>\n",
              "      <td>1.000000</td>\n",
              "      <td>0.001935</td>\n",
              "      <td>1.000000</td>\n",
              "      <td>-0.010750</td>\n",
              "      <td>0.008128</td>\n",
              "      <td>-0.010760</td>\n",
              "      <td>0.011799</td>\n",
              "      <td>0.004236</td>\n",
              "      <td>-0.019486</td>\n",
              "      <td>-0.001303</td>\n",
              "      <td>-0.019415</td>\n",
              "    </tr>\n",
              "    <tr>\n",
              "      <th>total_day_calls</th>\n",
              "      <td>0.028240</td>\n",
              "      <td>0.000883</td>\n",
              "      <td>0.001935</td>\n",
              "      <td>1.000000</td>\n",
              "      <td>0.001936</td>\n",
              "      <td>-0.000699</td>\n",
              "      <td>0.003754</td>\n",
              "      <td>-0.000695</td>\n",
              "      <td>0.002804</td>\n",
              "      <td>-0.008308</td>\n",
              "      <td>0.013097</td>\n",
              "      <td>0.010893</td>\n",
              "      <td>0.013161</td>\n",
              "    </tr>\n",
              "    <tr>\n",
              "      <th>total_day_charge</th>\n",
              "      <td>-0.001019</td>\n",
              "      <td>0.005377</td>\n",
              "      <td>1.000000</td>\n",
              "      <td>0.001936</td>\n",
              "      <td>1.000000</td>\n",
              "      <td>-0.010747</td>\n",
              "      <td>0.008129</td>\n",
              "      <td>-0.010757</td>\n",
              "      <td>0.011801</td>\n",
              "      <td>0.004235</td>\n",
              "      <td>-0.019490</td>\n",
              "      <td>-0.001307</td>\n",
              "      <td>-0.019419</td>\n",
              "    </tr>\n",
              "    <tr>\n",
              "      <th>total_eve_minutes</th>\n",
              "      <td>-0.009591</td>\n",
              "      <td>0.019490</td>\n",
              "      <td>-0.010750</td>\n",
              "      <td>-0.000699</td>\n",
              "      <td>-0.010747</td>\n",
              "      <td>1.000000</td>\n",
              "      <td>0.002763</td>\n",
              "      <td>1.000000</td>\n",
              "      <td>-0.016639</td>\n",
              "      <td>0.013420</td>\n",
              "      <td>0.000137</td>\n",
              "      <td>0.008388</td>\n",
              "      <td>0.000159</td>\n",
              "    </tr>\n",
              "    <tr>\n",
              "      <th>total_eve_calls</th>\n",
              "      <td>0.009143</td>\n",
              "      <td>-0.003954</td>\n",
              "      <td>0.008128</td>\n",
              "      <td>0.003754</td>\n",
              "      <td>0.008129</td>\n",
              "      <td>0.002763</td>\n",
              "      <td>1.000000</td>\n",
              "      <td>0.002778</td>\n",
              "      <td>0.001781</td>\n",
              "      <td>-0.013682</td>\n",
              "      <td>-0.007458</td>\n",
              "      <td>0.005574</td>\n",
              "      <td>-0.007507</td>\n",
              "    </tr>\n",
              "    <tr>\n",
              "      <th>total_eve_charge</th>\n",
              "      <td>-0.009587</td>\n",
              "      <td>0.019496</td>\n",
              "      <td>-0.010760</td>\n",
              "      <td>-0.000695</td>\n",
              "      <td>-0.010757</td>\n",
              "      <td>1.000000</td>\n",
              "      <td>0.002778</td>\n",
              "      <td>1.000000</td>\n",
              "      <td>-0.016649</td>\n",
              "      <td>0.013422</td>\n",
              "      <td>0.000132</td>\n",
              "      <td>0.008393</td>\n",
              "      <td>0.000155</td>\n",
              "    </tr>\n",
              "    <tr>\n",
              "      <th>total_night_minutes</th>\n",
              "      <td>0.000668</td>\n",
              "      <td>0.005541</td>\n",
              "      <td>0.011799</td>\n",
              "      <td>0.002804</td>\n",
              "      <td>0.011801</td>\n",
              "      <td>-0.016639</td>\n",
              "      <td>0.001781</td>\n",
              "      <td>-0.016649</td>\n",
              "      <td>1.000000</td>\n",
              "      <td>0.026972</td>\n",
              "      <td>-0.006721</td>\n",
              "      <td>-0.017214</td>\n",
              "      <td>-0.006655</td>\n",
              "    </tr>\n",
              "    <tr>\n",
              "      <th>total_night_calls</th>\n",
              "      <td>-0.007825</td>\n",
              "      <td>0.002676</td>\n",
              "      <td>0.004236</td>\n",
              "      <td>-0.008308</td>\n",
              "      <td>0.004235</td>\n",
              "      <td>0.013420</td>\n",
              "      <td>-0.013682</td>\n",
              "      <td>0.013422</td>\n",
              "      <td>0.026972</td>\n",
              "      <td>1.000000</td>\n",
              "      <td>0.000391</td>\n",
              "      <td>-0.000156</td>\n",
              "      <td>0.000368</td>\n",
              "    </tr>\n",
              "    <tr>\n",
              "      <th>total_intl_minutes</th>\n",
              "      <td>0.001291</td>\n",
              "      <td>0.002463</td>\n",
              "      <td>-0.019486</td>\n",
              "      <td>0.013097</td>\n",
              "      <td>-0.019490</td>\n",
              "      <td>0.000137</td>\n",
              "      <td>-0.007458</td>\n",
              "      <td>0.000132</td>\n",
              "      <td>-0.006721</td>\n",
              "      <td>0.000391</td>\n",
              "      <td>1.000000</td>\n",
              "      <td>0.016791</td>\n",
              "      <td>0.999993</td>\n",
              "    </tr>\n",
              "    <tr>\n",
              "      <th>total_intl_calls</th>\n",
              "      <td>0.014277</td>\n",
              "      <td>0.000124</td>\n",
              "      <td>-0.001303</td>\n",
              "      <td>0.010893</td>\n",
              "      <td>-0.001307</td>\n",
              "      <td>0.008388</td>\n",
              "      <td>0.005574</td>\n",
              "      <td>0.008393</td>\n",
              "      <td>-0.017214</td>\n",
              "      <td>-0.000156</td>\n",
              "      <td>0.016791</td>\n",
              "      <td>1.000000</td>\n",
              "      <td>0.016900</td>\n",
              "    </tr>\n",
              "    <tr>\n",
              "      <th>total_intl_charge</th>\n",
              "      <td>0.001292</td>\n",
              "      <td>0.002505</td>\n",
              "      <td>-0.019415</td>\n",
              "      <td>0.013161</td>\n",
              "      <td>-0.019419</td>\n",
              "      <td>0.000159</td>\n",
              "      <td>-0.007507</td>\n",
              "      <td>0.000155</td>\n",
              "      <td>-0.006655</td>\n",
              "      <td>0.000368</td>\n",
              "      <td>0.999993</td>\n",
              "      <td>0.016900</td>\n",
              "      <td>1.000000</td>\n",
              "    </tr>\n",
              "  </tbody>\n",
              "</table>\n",
              "</div>"
            ],
            "text/plain": [
              "                       account_length  number_vmail_messages  \\\n",
              "account_length               1.000000              -0.014575   \n",
              "number_vmail_messages       -0.014575               1.000000   \n",
              "total_day_minutes           -0.001017               0.005381   \n",
              "total_day_calls              0.028240               0.000883   \n",
              "total_day_charge            -0.001019               0.005377   \n",
              "total_eve_minutes           -0.009591               0.019490   \n",
              "total_eve_calls              0.009143              -0.003954   \n",
              "total_eve_charge            -0.009587               0.019496   \n",
              "total_night_minutes          0.000668               0.005541   \n",
              "total_night_calls           -0.007825               0.002676   \n",
              "total_intl_minutes           0.001291               0.002463   \n",
              "total_intl_calls             0.014277               0.000124   \n",
              "total_intl_charge            0.001292               0.002505   \n",
              "\n",
              "                       total_day_minutes  total_day_calls  total_day_charge  \\\n",
              "account_length                 -0.001017         0.028240         -0.001019   \n",
              "number_vmail_messages           0.005381         0.000883          0.005377   \n",
              "total_day_minutes               1.000000         0.001935          1.000000   \n",
              "total_day_calls                 0.001935         1.000000          0.001936   \n",
              "total_day_charge                1.000000         0.001936          1.000000   \n",
              "total_eve_minutes              -0.010750        -0.000699         -0.010747   \n",
              "total_eve_calls                 0.008128         0.003754          0.008129   \n",
              "total_eve_charge               -0.010760        -0.000695         -0.010757   \n",
              "total_night_minutes             0.011799         0.002804          0.011801   \n",
              "total_night_calls               0.004236        -0.008308          0.004235   \n",
              "total_intl_minutes             -0.019486         0.013097         -0.019490   \n",
              "total_intl_calls               -0.001303         0.010893         -0.001307   \n",
              "total_intl_charge              -0.019415         0.013161         -0.019419   \n",
              "\n",
              "                       total_eve_minutes  total_eve_calls  total_eve_charge  \\\n",
              "account_length                 -0.009591         0.009143         -0.009587   \n",
              "number_vmail_messages           0.019490        -0.003954          0.019496   \n",
              "total_day_minutes              -0.010750         0.008128         -0.010760   \n",
              "total_day_calls                -0.000699         0.003754         -0.000695   \n",
              "total_day_charge               -0.010747         0.008129         -0.010757   \n",
              "total_eve_minutes               1.000000         0.002763          1.000000   \n",
              "total_eve_calls                 0.002763         1.000000          0.002778   \n",
              "total_eve_charge                1.000000         0.002778          1.000000   \n",
              "total_night_minutes            -0.016639         0.001781         -0.016649   \n",
              "total_night_calls               0.013420        -0.013682          0.013422   \n",
              "total_intl_minutes              0.000137        -0.007458          0.000132   \n",
              "total_intl_calls                0.008388         0.005574          0.008393   \n",
              "total_intl_charge               0.000159        -0.007507          0.000155   \n",
              "\n",
              "                       total_night_minutes  total_night_calls  \\\n",
              "account_length                    0.000668          -0.007825   \n",
              "number_vmail_messages             0.005541           0.002676   \n",
              "total_day_minutes                 0.011799           0.004236   \n",
              "total_day_calls                   0.002804          -0.008308   \n",
              "total_day_charge                  0.011801           0.004235   \n",
              "total_eve_minutes                -0.016639           0.013420   \n",
              "total_eve_calls                   0.001781          -0.013682   \n",
              "total_eve_charge                 -0.016649           0.013422   \n",
              "total_night_minutes               1.000000           0.026972   \n",
              "total_night_calls                 0.026972           1.000000   \n",
              "total_intl_minutes               -0.006721           0.000391   \n",
              "total_intl_calls                 -0.017214          -0.000156   \n",
              "total_intl_charge                -0.006655           0.000368   \n",
              "\n",
              "                       total_intl_minutes  total_intl_calls  total_intl_charge  \n",
              "account_length                   0.001291          0.014277           0.001292  \n",
              "number_vmail_messages            0.002463          0.000124           0.002505  \n",
              "total_day_minutes               -0.019486         -0.001303          -0.019415  \n",
              "total_day_calls                  0.013097          0.010893           0.013161  \n",
              "total_day_charge                -0.019490         -0.001307          -0.019419  \n",
              "total_eve_minutes                0.000137          0.008388           0.000159  \n",
              "total_eve_calls                 -0.007458          0.005574          -0.007507  \n",
              "total_eve_charge                 0.000132          0.008393           0.000155  \n",
              "total_night_minutes             -0.006721         -0.017214          -0.006655  \n",
              "total_night_calls                0.000391         -0.000156           0.000368  \n",
              "total_intl_minutes               1.000000          0.016791           0.999993  \n",
              "total_intl_calls                 0.016791          1.000000           0.016900  \n",
              "total_intl_charge                0.999993          0.016900           1.000000  "
            ]
          },
          "metadata": {
            "tags": []
          },
          "execution_count": 12
        }
      ]
    },
    {
      "cell_type": "code",
      "metadata": {
        "id": "hJKDjNnPsk4D",
        "colab_type": "code",
        "colab": {
          "base_uri": "https://localhost:8080/",
          "height": 34
        },
        "outputId": "2eb8e453-0457-488e-dad5-834bb6a6b0a0"
      },
      "source": [
        "from scipy.stats import pearsonr\n",
        "print (pearsonr(churn_df['total_day_minutes'], churn_df['number_vmail_messages'])[0])"
      ],
      "execution_count": 13,
      "outputs": [
        {
          "output_type": "stream",
          "text": [
            "0.00538137596065452\n"
          ],
          "name": "stdout"
        }
      ]
    },
    {
      "cell_type": "markdown",
      "metadata": {
        "id": "A9DtLfde3gix",
        "colab_type": "text"
      },
      "source": [
        "#Part 2: Feature Preprocessing"
      ]
    },
    {
      "cell_type": "code",
      "metadata": {
        "id": "Uy0bk9rcsnUd",
        "colab_type": "code",
        "colab": {
          "base_uri": "https://localhost:8080/",
          "height": 215
        },
        "outputId": "ba38f9e1-dffb-4cca-fe1d-04a88c283766"
      },
      "source": [
        "churn_df.head()\n"
      ],
      "execution_count": 14,
      "outputs": [
        {
          "output_type": "execute_result",
          "data": {
            "text/html": [
              "<div>\n",
              "<style scoped>\n",
              "    .dataframe tbody tr th:only-of-type {\n",
              "        vertical-align: middle;\n",
              "    }\n",
              "\n",
              "    .dataframe tbody tr th {\n",
              "        vertical-align: top;\n",
              "    }\n",
              "\n",
              "    .dataframe thead th {\n",
              "        text-align: right;\n",
              "    }\n",
              "</style>\n",
              "<table border=\"1\" class=\"dataframe\">\n",
              "  <thead>\n",
              "    <tr style=\"text-align: right;\">\n",
              "      <th></th>\n",
              "      <th>state</th>\n",
              "      <th>account_length</th>\n",
              "      <th>area_code</th>\n",
              "      <th>phone_number</th>\n",
              "      <th>intl_plan</th>\n",
              "      <th>voice_mail_plan</th>\n",
              "      <th>number_vmail_messages</th>\n",
              "      <th>total_day_minutes</th>\n",
              "      <th>total_day_calls</th>\n",
              "      <th>total_day_charge</th>\n",
              "      <th>total_eve_minutes</th>\n",
              "      <th>total_eve_calls</th>\n",
              "      <th>total_eve_charge</th>\n",
              "      <th>total_night_minutes</th>\n",
              "      <th>total_night_calls</th>\n",
              "      <th>total_night_charge</th>\n",
              "      <th>total_intl_minutes</th>\n",
              "      <th>total_intl_calls</th>\n",
              "      <th>total_intl_charge</th>\n",
              "      <th>number_customer_service_calls</th>\n",
              "      <th>churned</th>\n",
              "    </tr>\n",
              "  </thead>\n",
              "  <tbody>\n",
              "    <tr>\n",
              "      <th>0</th>\n",
              "      <td>KS</td>\n",
              "      <td>128</td>\n",
              "      <td>415</td>\n",
              "      <td>382-4657</td>\n",
              "      <td>no</td>\n",
              "      <td>yes</td>\n",
              "      <td>25</td>\n",
              "      <td>265.1</td>\n",
              "      <td>110</td>\n",
              "      <td>45.07</td>\n",
              "      <td>197.4</td>\n",
              "      <td>99</td>\n",
              "      <td>16.78</td>\n",
              "      <td>244.7</td>\n",
              "      <td>91</td>\n",
              "      <td>11.01</td>\n",
              "      <td>10.0</td>\n",
              "      <td>3</td>\n",
              "      <td>2.70</td>\n",
              "      <td>1</td>\n",
              "      <td>False.</td>\n",
              "    </tr>\n",
              "    <tr>\n",
              "      <th>1</th>\n",
              "      <td>OH</td>\n",
              "      <td>107</td>\n",
              "      <td>415</td>\n",
              "      <td>371-7191</td>\n",
              "      <td>no</td>\n",
              "      <td>yes</td>\n",
              "      <td>26</td>\n",
              "      <td>161.6</td>\n",
              "      <td>123</td>\n",
              "      <td>27.47</td>\n",
              "      <td>195.5</td>\n",
              "      <td>103</td>\n",
              "      <td>16.62</td>\n",
              "      <td>254.4</td>\n",
              "      <td>103</td>\n",
              "      <td>11.45</td>\n",
              "      <td>13.7</td>\n",
              "      <td>3</td>\n",
              "      <td>3.70</td>\n",
              "      <td>1</td>\n",
              "      <td>False.</td>\n",
              "    </tr>\n",
              "    <tr>\n",
              "      <th>2</th>\n",
              "      <td>NJ</td>\n",
              "      <td>137</td>\n",
              "      <td>415</td>\n",
              "      <td>358-1921</td>\n",
              "      <td>no</td>\n",
              "      <td>no</td>\n",
              "      <td>0</td>\n",
              "      <td>243.4</td>\n",
              "      <td>114</td>\n",
              "      <td>41.38</td>\n",
              "      <td>121.2</td>\n",
              "      <td>110</td>\n",
              "      <td>10.30</td>\n",
              "      <td>162.6</td>\n",
              "      <td>104</td>\n",
              "      <td>7.32</td>\n",
              "      <td>12.2</td>\n",
              "      <td>5</td>\n",
              "      <td>3.29</td>\n",
              "      <td>0</td>\n",
              "      <td>False.</td>\n",
              "    </tr>\n",
              "    <tr>\n",
              "      <th>3</th>\n",
              "      <td>OH</td>\n",
              "      <td>84</td>\n",
              "      <td>408</td>\n",
              "      <td>375-9999</td>\n",
              "      <td>yes</td>\n",
              "      <td>no</td>\n",
              "      <td>0</td>\n",
              "      <td>299.4</td>\n",
              "      <td>71</td>\n",
              "      <td>50.90</td>\n",
              "      <td>61.9</td>\n",
              "      <td>88</td>\n",
              "      <td>5.26</td>\n",
              "      <td>196.9</td>\n",
              "      <td>89</td>\n",
              "      <td>8.86</td>\n",
              "      <td>6.6</td>\n",
              "      <td>7</td>\n",
              "      <td>1.78</td>\n",
              "      <td>2</td>\n",
              "      <td>False.</td>\n",
              "    </tr>\n",
              "    <tr>\n",
              "      <th>4</th>\n",
              "      <td>OK</td>\n",
              "      <td>75</td>\n",
              "      <td>415</td>\n",
              "      <td>330-6626</td>\n",
              "      <td>yes</td>\n",
              "      <td>no</td>\n",
              "      <td>0</td>\n",
              "      <td>166.7</td>\n",
              "      <td>113</td>\n",
              "      <td>28.34</td>\n",
              "      <td>148.3</td>\n",
              "      <td>122</td>\n",
              "      <td>12.61</td>\n",
              "      <td>186.9</td>\n",
              "      <td>121</td>\n",
              "      <td>8.41</td>\n",
              "      <td>10.1</td>\n",
              "      <td>3</td>\n",
              "      <td>2.73</td>\n",
              "      <td>3</td>\n",
              "      <td>False.</td>\n",
              "    </tr>\n",
              "  </tbody>\n",
              "</table>\n",
              "</div>"
            ],
            "text/plain": [
              "  state  account_length  area_code phone_number intl_plan voice_mail_plan  \\\n",
              "0    KS             128        415     382-4657        no             yes   \n",
              "1    OH             107        415     371-7191        no             yes   \n",
              "2    NJ             137        415     358-1921        no              no   \n",
              "3    OH              84        408     375-9999       yes              no   \n",
              "4    OK              75        415     330-6626       yes              no   \n",
              "\n",
              "   number_vmail_messages  total_day_minutes  total_day_calls  \\\n",
              "0                     25              265.1              110   \n",
              "1                     26              161.6              123   \n",
              "2                      0              243.4              114   \n",
              "3                      0              299.4               71   \n",
              "4                      0              166.7              113   \n",
              "\n",
              "   total_day_charge  total_eve_minutes  total_eve_calls  total_eve_charge  \\\n",
              "0             45.07              197.4               99             16.78   \n",
              "1             27.47              195.5              103             16.62   \n",
              "2             41.38              121.2              110             10.30   \n",
              "3             50.90               61.9               88              5.26   \n",
              "4             28.34              148.3              122             12.61   \n",
              "\n",
              "   total_night_minutes  total_night_calls  total_night_charge  \\\n",
              "0                244.7                 91               11.01   \n",
              "1                254.4                103               11.45   \n",
              "2                162.6                104                7.32   \n",
              "3                196.9                 89                8.86   \n",
              "4                186.9                121                8.41   \n",
              "\n",
              "   total_intl_minutes  total_intl_calls  total_intl_charge  \\\n",
              "0                10.0                 3               2.70   \n",
              "1                13.7                 3               3.70   \n",
              "2                12.2                 5               3.29   \n",
              "3                 6.6                 7               1.78   \n",
              "4                10.1                 3               2.73   \n",
              "\n",
              "   number_customer_service_calls churned  \n",
              "0                              1  False.  \n",
              "1                              1  False.  \n",
              "2                              0  False.  \n",
              "3                              2  False.  \n",
              "4                              3  False.  "
            ]
          },
          "metadata": {
            "tags": []
          },
          "execution_count": 14
        }
      ]
    },
    {
      "cell_type": "code",
      "metadata": {
        "id": "7tR8YF0DsqRf",
        "colab_type": "code",
        "colab": {}
      },
      "source": [
        "# Get ground truth data\n",
        "y = np.where(churn_df['churned'] == 'True.',1,0)\n",
        "\n",
        "# Drop some useless columns\n",
        "to_drop = ['state','area_code','phone_number','churned']\n",
        "churn_feat_space = churn_df.drop(to_drop, axis=1)\n",
        "\n",
        "# # Add catogorical features, e.g. state, into your feature matrix\n",
        "# one_hot_encoded_feat = pd.get_dummies(churn_df.state)\n",
        "# churn_feat_space = pd.concat([churn_feat_space, one_hot_encoded_feat], axis=1)\n",
        "\n",
        "# yes and no have to be converted to boolean values\n",
        "yes_no_cols = [\"intl_plan\",\"voice_mail_plan\"]\n",
        "churn_feat_space[yes_no_cols] = churn_feat_space[yes_no_cols] == 'yes'\n",
        "\n",
        "# Converts data frame to its Numpy-array representation.\n",
        "X = churn_feat_space.as_matrix().astype(np.float)"
      ],
      "execution_count": 0,
      "outputs": []
    },
    {
      "cell_type": "code",
      "metadata": {
        "id": "6OMj45aYssWd",
        "colab_type": "code",
        "colab": {
          "base_uri": "https://localhost:8080/",
          "height": 215
        },
        "outputId": "2eacf002-3cc9-41ca-d229-0ebc9e1bbd32"
      },
      "source": [
        "churn_feat_space.head()\n"
      ],
      "execution_count": 16,
      "outputs": [
        {
          "output_type": "execute_result",
          "data": {
            "text/html": [
              "<div>\n",
              "<style scoped>\n",
              "    .dataframe tbody tr th:only-of-type {\n",
              "        vertical-align: middle;\n",
              "    }\n",
              "\n",
              "    .dataframe tbody tr th {\n",
              "        vertical-align: top;\n",
              "    }\n",
              "\n",
              "    .dataframe thead th {\n",
              "        text-align: right;\n",
              "    }\n",
              "</style>\n",
              "<table border=\"1\" class=\"dataframe\">\n",
              "  <thead>\n",
              "    <tr style=\"text-align: right;\">\n",
              "      <th></th>\n",
              "      <th>account_length</th>\n",
              "      <th>intl_plan</th>\n",
              "      <th>voice_mail_plan</th>\n",
              "      <th>number_vmail_messages</th>\n",
              "      <th>total_day_minutes</th>\n",
              "      <th>total_day_calls</th>\n",
              "      <th>total_day_charge</th>\n",
              "      <th>total_eve_minutes</th>\n",
              "      <th>total_eve_calls</th>\n",
              "      <th>total_eve_charge</th>\n",
              "      <th>total_night_minutes</th>\n",
              "      <th>total_night_calls</th>\n",
              "      <th>total_night_charge</th>\n",
              "      <th>total_intl_minutes</th>\n",
              "      <th>total_intl_calls</th>\n",
              "      <th>total_intl_charge</th>\n",
              "      <th>number_customer_service_calls</th>\n",
              "    </tr>\n",
              "  </thead>\n",
              "  <tbody>\n",
              "    <tr>\n",
              "      <th>0</th>\n",
              "      <td>128</td>\n",
              "      <td>False</td>\n",
              "      <td>True</td>\n",
              "      <td>25</td>\n",
              "      <td>265.1</td>\n",
              "      <td>110</td>\n",
              "      <td>45.07</td>\n",
              "      <td>197.4</td>\n",
              "      <td>99</td>\n",
              "      <td>16.78</td>\n",
              "      <td>244.7</td>\n",
              "      <td>91</td>\n",
              "      <td>11.01</td>\n",
              "      <td>10.0</td>\n",
              "      <td>3</td>\n",
              "      <td>2.70</td>\n",
              "      <td>1</td>\n",
              "    </tr>\n",
              "    <tr>\n",
              "      <th>1</th>\n",
              "      <td>107</td>\n",
              "      <td>False</td>\n",
              "      <td>True</td>\n",
              "      <td>26</td>\n",
              "      <td>161.6</td>\n",
              "      <td>123</td>\n",
              "      <td>27.47</td>\n",
              "      <td>195.5</td>\n",
              "      <td>103</td>\n",
              "      <td>16.62</td>\n",
              "      <td>254.4</td>\n",
              "      <td>103</td>\n",
              "      <td>11.45</td>\n",
              "      <td>13.7</td>\n",
              "      <td>3</td>\n",
              "      <td>3.70</td>\n",
              "      <td>1</td>\n",
              "    </tr>\n",
              "    <tr>\n",
              "      <th>2</th>\n",
              "      <td>137</td>\n",
              "      <td>False</td>\n",
              "      <td>False</td>\n",
              "      <td>0</td>\n",
              "      <td>243.4</td>\n",
              "      <td>114</td>\n",
              "      <td>41.38</td>\n",
              "      <td>121.2</td>\n",
              "      <td>110</td>\n",
              "      <td>10.30</td>\n",
              "      <td>162.6</td>\n",
              "      <td>104</td>\n",
              "      <td>7.32</td>\n",
              "      <td>12.2</td>\n",
              "      <td>5</td>\n",
              "      <td>3.29</td>\n",
              "      <td>0</td>\n",
              "    </tr>\n",
              "    <tr>\n",
              "      <th>3</th>\n",
              "      <td>84</td>\n",
              "      <td>True</td>\n",
              "      <td>False</td>\n",
              "      <td>0</td>\n",
              "      <td>299.4</td>\n",
              "      <td>71</td>\n",
              "      <td>50.90</td>\n",
              "      <td>61.9</td>\n",
              "      <td>88</td>\n",
              "      <td>5.26</td>\n",
              "      <td>196.9</td>\n",
              "      <td>89</td>\n",
              "      <td>8.86</td>\n",
              "      <td>6.6</td>\n",
              "      <td>7</td>\n",
              "      <td>1.78</td>\n",
              "      <td>2</td>\n",
              "    </tr>\n",
              "    <tr>\n",
              "      <th>4</th>\n",
              "      <td>75</td>\n",
              "      <td>True</td>\n",
              "      <td>False</td>\n",
              "      <td>0</td>\n",
              "      <td>166.7</td>\n",
              "      <td>113</td>\n",
              "      <td>28.34</td>\n",
              "      <td>148.3</td>\n",
              "      <td>122</td>\n",
              "      <td>12.61</td>\n",
              "      <td>186.9</td>\n",
              "      <td>121</td>\n",
              "      <td>8.41</td>\n",
              "      <td>10.1</td>\n",
              "      <td>3</td>\n",
              "      <td>2.73</td>\n",
              "      <td>3</td>\n",
              "    </tr>\n",
              "  </tbody>\n",
              "</table>\n",
              "</div>"
            ],
            "text/plain": [
              "   account_length  intl_plan  voice_mail_plan  number_vmail_messages  \\\n",
              "0             128      False             True                     25   \n",
              "1             107      False             True                     26   \n",
              "2             137      False            False                      0   \n",
              "3              84       True            False                      0   \n",
              "4              75       True            False                      0   \n",
              "\n",
              "   total_day_minutes  total_day_calls  total_day_charge  total_eve_minutes  \\\n",
              "0              265.1              110             45.07              197.4   \n",
              "1              161.6              123             27.47              195.5   \n",
              "2              243.4              114             41.38              121.2   \n",
              "3              299.4               71             50.90               61.9   \n",
              "4              166.7              113             28.34              148.3   \n",
              "\n",
              "   total_eve_calls  total_eve_charge  total_night_minutes  total_night_calls  \\\n",
              "0               99             16.78                244.7                 91   \n",
              "1              103             16.62                254.4                103   \n",
              "2              110             10.30                162.6                104   \n",
              "3               88              5.26                196.9                 89   \n",
              "4              122             12.61                186.9                121   \n",
              "\n",
              "   total_night_charge  total_intl_minutes  total_intl_calls  \\\n",
              "0               11.01                10.0                 3   \n",
              "1               11.45                13.7                 3   \n",
              "2                7.32                12.2                 5   \n",
              "3                8.86                 6.6                 7   \n",
              "4                8.41                10.1                 3   \n",
              "\n",
              "   total_intl_charge  number_customer_service_calls  \n",
              "0               2.70                              1  \n",
              "1               3.70                              1  \n",
              "2               3.29                              0  \n",
              "3               1.78                              2  \n",
              "4               2.73                              3  "
            ]
          },
          "metadata": {
            "tags": []
          },
          "execution_count": 16
        }
      ]
    },
    {
      "cell_type": "code",
      "metadata": {
        "id": "ZyMRggk7svKC",
        "colab_type": "code",
        "colab": {
          "base_uri": "https://localhost:8080/",
          "height": 50
        },
        "outputId": "ec54830b-02b8-45a9-db63-08f8e73c9271"
      },
      "source": [
        "# Scale the data\n",
        "from sklearn.preprocessing import StandardScaler\n",
        "scaler = StandardScaler()\n",
        "X = scaler.fit_transform(X)\n",
        "\n",
        "print (\"Feature space holds %d observations and %d features\" % X.shape)\n",
        "print (\"Unique target labels:\", np.unique(y))"
      ],
      "execution_count": 17,
      "outputs": [
        {
          "output_type": "stream",
          "text": [
            "Feature space holds 5000 observations and 17 features\n",
            "Unique target labels: [0 1]\n"
          ],
          "name": "stdout"
        }
      ]
    },
    {
      "cell_type": "markdown",
      "metadata": {
        "id": "lvTs54Up3mZG",
        "colab_type": "text"
      },
      "source": [
        "#Part 3: Model Training and Result Evaluation\n",
        "###Part 3.1: K-fold Cross-Validation"
      ]
    },
    {
      "cell_type": "code",
      "metadata": {
        "id": "laINyGn4syi_",
        "colab_type": "code",
        "colab": {}
      },
      "source": [
        "from sklearn.model_selection import KFold\n",
        "\n",
        "#This program does 5-fold. It saves the result at each time as different parts of y_pred. \n",
        "#In the end, it returns the y_pred as the result of all the five 5-fold.\n",
        "def run_cv(X,y,clf_class,**kwargs):\n",
        "    # Construct a kfolds object\n",
        "    kf = KFold(n_splits=5)\n",
        "    y_pred = y.copy()\n",
        "    clf = clf_class(**kwargs)\n",
        "    # Iterate through folds\n",
        "    for train_index, test_index in kf.split(y):\n",
        "        X_train, X_test = X[train_index], X[test_index]\n",
        "        y_train = y[train_index]\n",
        "        \n",
        "        clf.fit(X_train,y_train)\n",
        "        y_pred[test_index] = clf.predict(X_test)\n",
        "    return y_pred"
      ],
      "execution_count": 0,
      "outputs": []
    },
    {
      "cell_type": "markdown",
      "metadata": {
        "id": "VParCbGc3uBG",
        "colab_type": "text"
      },
      "source": [
        "###Part 3.2: Run Supervised Learning Models and Calculate Accuracy"
      ]
    },
    {
      "cell_type": "code",
      "metadata": {
        "id": "3WAojxzMtDO3",
        "colab_type": "code",
        "colab": {}
      },
      "source": [
        "from sklearn.ensemble import RandomForestClassifier\n",
        "from sklearn.neighbors import KNeighborsClassifier \n",
        "from sklearn.linear_model import LogisticRegression\n",
        "from sklearn.svm import SVC\n",
        "\n",
        "def accuracy(y_true,y_pred):\n",
        "    return np.mean(y_true == y_pred) # NumPy interpretes True and False as 1. and 0.\n",
        "\n",
        "LR_CV_result = run_cv(X,y,LogisticRegression)\n",
        "SVC_CV_result = run_cv(X,y,SVC)\n",
        "RF_CV_result = run_cv(X,y,RandomForestClassifier)\n",
        "KNN_CV_result = run_cv(X,y,KNeighborsClassifier) #Default: n_neighbors=5"
      ],
      "execution_count": 0,
      "outputs": []
    },
    {
      "cell_type": "code",
      "metadata": {
        "id": "1ElnEiB7yxoY",
        "colab_type": "code",
        "colab": {
          "base_uri": "https://localhost:8080/",
          "height": 84
        },
        "outputId": "9db705dd-9087-4cc1-9816-d49ed12472f1"
      },
      "source": [
        "print (\"Logistic Regression (L2 is default): \" + str(accuracy(y, LR_CV_result)))\n",
        "print (\"SVM: (rbf is default kernal):,\" + str(accuracy(y, SVC_CV_result)))\n",
        "print (\"Random forest: \" + str(accuracy(y, RF_CV_result)))\n",
        "print (\"K-nearest-neighbors: \" + str(accuracy(y, KNN_CV_result)))"
      ],
      "execution_count": 31,
      "outputs": [
        {
          "output_type": "stream",
          "text": [
            "Logistic Regression (L2 is default): 0.8644\n",
            "SVM: (rbf is default kernal):,0.9274\n",
            "Random forest: 0.958\n",
            "K-nearest-neighbors: 0.9004\n"
          ],
          "name": "stdout"
        }
      ]
    },
    {
      "cell_type": "code",
      "metadata": {
        "id": "LTkPhEIdy1-S",
        "colab_type": "code",
        "colab": {
          "base_uri": "https://localhost:8080/",
          "height": 343
        },
        "outputId": "60b90dc7-14ef-46c0-fc67-5316d0f0072f"
      },
      "source": [
        "#Show the details of prediction results\n",
        "churn_df_LR_CV = churn_df\n",
        "churn_df_LR_CV['LR_Predicted_churned'] = LR_CV_result == 1\n",
        "churn_df_LR_CV[churn_df_LR_CV.columns[-2:]].head(10)"
      ],
      "execution_count": 32,
      "outputs": [
        {
          "output_type": "execute_result",
          "data": {
            "text/html": [
              "<div>\n",
              "<style scoped>\n",
              "    .dataframe tbody tr th:only-of-type {\n",
              "        vertical-align: middle;\n",
              "    }\n",
              "\n",
              "    .dataframe tbody tr th {\n",
              "        vertical-align: top;\n",
              "    }\n",
              "\n",
              "    .dataframe thead th {\n",
              "        text-align: right;\n",
              "    }\n",
              "</style>\n",
              "<table border=\"1\" class=\"dataframe\">\n",
              "  <thead>\n",
              "    <tr style=\"text-align: right;\">\n",
              "      <th></th>\n",
              "      <th>churned</th>\n",
              "      <th>LR_Predicted_churned</th>\n",
              "    </tr>\n",
              "  </thead>\n",
              "  <tbody>\n",
              "    <tr>\n",
              "      <th>0</th>\n",
              "      <td>False.</td>\n",
              "      <td>False</td>\n",
              "    </tr>\n",
              "    <tr>\n",
              "      <th>1</th>\n",
              "      <td>False.</td>\n",
              "      <td>False</td>\n",
              "    </tr>\n",
              "    <tr>\n",
              "      <th>2</th>\n",
              "      <td>False.</td>\n",
              "      <td>False</td>\n",
              "    </tr>\n",
              "    <tr>\n",
              "      <th>3</th>\n",
              "      <td>False.</td>\n",
              "      <td>True</td>\n",
              "    </tr>\n",
              "    <tr>\n",
              "      <th>4</th>\n",
              "      <td>False.</td>\n",
              "      <td>True</td>\n",
              "    </tr>\n",
              "    <tr>\n",
              "      <th>5</th>\n",
              "      <td>False.</td>\n",
              "      <td>False</td>\n",
              "    </tr>\n",
              "    <tr>\n",
              "      <th>6</th>\n",
              "      <td>False.</td>\n",
              "      <td>False</td>\n",
              "    </tr>\n",
              "    <tr>\n",
              "      <th>7</th>\n",
              "      <td>False.</td>\n",
              "      <td>False</td>\n",
              "    </tr>\n",
              "    <tr>\n",
              "      <th>8</th>\n",
              "      <td>False.</td>\n",
              "      <td>False</td>\n",
              "    </tr>\n",
              "    <tr>\n",
              "      <th>9</th>\n",
              "      <td>False.</td>\n",
              "      <td>False</td>\n",
              "    </tr>\n",
              "  </tbody>\n",
              "</table>\n",
              "</div>"
            ],
            "text/plain": [
              "  churned  LR_Predicted_churned\n",
              "0  False.                 False\n",
              "1  False.                 False\n",
              "2  False.                 False\n",
              "3  False.                  True\n",
              "4  False.                  True\n",
              "5  False.                 False\n",
              "6  False.                 False\n",
              "7  False.                 False\n",
              "8  False.                 False\n",
              "9  False.                 False"
            ]
          },
          "metadata": {
            "tags": []
          },
          "execution_count": 32
        }
      ]
    },
    {
      "cell_type": "markdown",
      "metadata": {
        "id": "kSbS8clG32K_",
        "colab_type": "text"
      },
      "source": [
        "#(Optional) Part 3.3: Use Grid Search to Find Optimal Parameters\n",
        "###Part 3.3.1: Find Optimal Parameters - LogisticRegression"
      ]
    },
    {
      "cell_type": "code",
      "metadata": {
        "id": "xePfIj6uy5nH",
        "colab_type": "code",
        "colab": {}
      },
      "source": [
        "def print_grid_search_metrics(gs):\n",
        "    print (\"Best score: %0.3f\" % gs.best_score_)\n",
        "    print (\"Best parameters set:\")\n",
        "    best_parameters = gs.best_params_\n",
        "    for param_name in sorted(parameters.keys()):\n",
        "        print(\"\\t%s: %r\" % (param_name, best_parameters[param_name]))"
      ],
      "execution_count": 0,
      "outputs": []
    },
    {
      "cell_type": "code",
      "metadata": {
        "id": "E9tB-8Suy9SN",
        "colab_type": "code",
        "colab": {
          "base_uri": "https://localhost:8080/",
          "height": 286
        },
        "outputId": "5134a554-d3c3-493b-e201-12805ef27fdd"
      },
      "source": [
        "from sklearn.model_selection import GridSearchCV\n",
        "parameters = {\n",
        "    'penalty':('l1', 'l2'), \n",
        "    'C':(1, 5, 10)\n",
        "}\n",
        "Grid_LR = GridSearchCV(LogisticRegression(),parameters, cv=5, verbose=1, refit=False)\n",
        "Grid_LR.fit(X, y)"
      ],
      "execution_count": 35,
      "outputs": [
        {
          "output_type": "stream",
          "text": [
            "Fitting 5 folds for each of 6 candidates, totalling 30 fits\n"
          ],
          "name": "stdout"
        },
        {
          "output_type": "stream",
          "text": [
            "[Parallel(n_jobs=1)]: Using backend SequentialBackend with 1 concurrent workers.\n",
            "[Parallel(n_jobs=1)]: Done  30 out of  30 | elapsed:    0.4s finished\n"
          ],
          "name": "stderr"
        },
        {
          "output_type": "execute_result",
          "data": {
            "text/plain": [
              "GridSearchCV(cv=5, error_score=nan,\n",
              "             estimator=LogisticRegression(C=1.0, class_weight=None, dual=False,\n",
              "                                          fit_intercept=True,\n",
              "                                          intercept_scaling=1, l1_ratio=None,\n",
              "                                          max_iter=100, multi_class='auto',\n",
              "                                          n_jobs=None, penalty='l2',\n",
              "                                          random_state=None, solver='lbfgs',\n",
              "                                          tol=0.0001, verbose=0,\n",
              "                                          warm_start=False),\n",
              "             iid='deprecated', n_jobs=None,\n",
              "             param_grid={'C': (1, 5, 10), 'penalty': ('l1', 'l2')},\n",
              "             pre_dispatch='2*n_jobs', refit=False, return_train_score=False,\n",
              "             scoring=None, verbose=1)"
            ]
          },
          "metadata": {
            "tags": []
          },
          "execution_count": 35
        }
      ]
    },
    {
      "cell_type": "code",
      "metadata": {
        "id": "WaGmELldzXGx",
        "colab_type": "code",
        "colab": {
          "base_uri": "https://localhost:8080/",
          "height": 84
        },
        "outputId": "f12ab1e4-87b8-470b-9c20-1dcd74415a79"
      },
      "source": [
        "print_grid_search_metrics(Grid_LR)\n"
      ],
      "execution_count": 36,
      "outputs": [
        {
          "output_type": "stream",
          "text": [
            "Best score: 0.865\n",
            "Best parameters set:\n",
            "\tC: 1\n",
            "\tpenalty: 'l2'\n"
          ],
          "name": "stdout"
        }
      ]
    },
    {
      "cell_type": "code",
      "metadata": {
        "id": "2AuGrhkRzbTl",
        "colab_type": "code",
        "colab": {
          "base_uri": "https://localhost:8080/",
          "height": 34
        },
        "outputId": "07baea9f-f8f1-4445-bfae-42c97a64b428"
      },
      "source": [
        "from sklearn.model_selection import cross_val_score\n",
        "score = cross_val_score(LogisticRegression(C=1,penalty='l2'), X, y, cv=5)\n",
        "print (\"Logistic Regression 5-fold cross validation accuracy: \" + str(np.mean(score)))"
      ],
      "execution_count": 55,
      "outputs": [
        {
          "output_type": "stream",
          "text": [
            "Logistic Regression 5-fold cross validation accuracy: 0.8648\n"
          ],
          "name": "stdout"
        }
      ]
    },
    {
      "cell_type": "markdown",
      "metadata": {
        "id": "tVgenrvX4R1n",
        "colab_type": "text"
      },
      "source": [
        "###Part 3.3.2: Find Optimal Parameters: KNN"
      ]
    },
    {
      "cell_type": "code",
      "metadata": {
        "id": "ogHBEm4rzjbB",
        "colab_type": "code",
        "colab": {
          "base_uri": "https://localhost:8080/",
          "height": 218
        },
        "outputId": "002e5961-b2b7-4308-c79a-a5f1418def7a"
      },
      "source": [
        "from sklearn.model_selection import GridSearchCV\n",
        "parameters = {\n",
        "    'n_neighbors':[3,5,7,10] \n",
        "}\n",
        "Grid_KNN = GridSearchCV(KNeighborsClassifier(),parameters, cv=5, verbose=1, refit=False)\n",
        "Grid_KNN.fit(X, y)"
      ],
      "execution_count": 40,
      "outputs": [
        {
          "output_type": "stream",
          "text": [
            "Fitting 5 folds for each of 4 candidates, totalling 20 fits\n"
          ],
          "name": "stdout"
        },
        {
          "output_type": "stream",
          "text": [
            "[Parallel(n_jobs=1)]: Using backend SequentialBackend with 1 concurrent workers.\n",
            "[Parallel(n_jobs=1)]: Done  20 out of  20 | elapsed:    3.9s finished\n"
          ],
          "name": "stderr"
        },
        {
          "output_type": "execute_result",
          "data": {
            "text/plain": [
              "GridSearchCV(cv=5, error_score=nan,\n",
              "             estimator=KNeighborsClassifier(algorithm='auto', leaf_size=30,\n",
              "                                            metric='minkowski',\n",
              "                                            metric_params=None, n_jobs=None,\n",
              "                                            n_neighbors=5, p=2,\n",
              "                                            weights='uniform'),\n",
              "             iid='deprecated', n_jobs=None,\n",
              "             param_grid={'n_neighbors': [3, 5, 7, 10]}, pre_dispatch='2*n_jobs',\n",
              "             refit=False, return_train_score=False, scoring=None, verbose=1)"
            ]
          },
          "metadata": {
            "tags": []
          },
          "execution_count": 40
        }
      ]
    },
    {
      "cell_type": "code",
      "metadata": {
        "id": "uykOGKJLzr5n",
        "colab_type": "code",
        "colab": {
          "base_uri": "https://localhost:8080/",
          "height": 67
        },
        "outputId": "b166c0a4-bc6c-4726-af80-dfb017b7ecfa"
      },
      "source": [
        "print_grid_search_metrics(Grid_KNN)\n"
      ],
      "execution_count": 41,
      "outputs": [
        {
          "output_type": "stream",
          "text": [
            "Best score: 0.901\n",
            "Best parameters set:\n",
            "\tn_neighbors: 5\n"
          ],
          "name": "stdout"
        }
      ]
    },
    {
      "cell_type": "code",
      "metadata": {
        "id": "9uib0862zw8z",
        "colab_type": "code",
        "colab": {
          "base_uri": "https://localhost:8080/",
          "height": 34
        },
        "outputId": "3c83b9aa-90db-4d8e-9e5b-5ff4a7176fbc"
      },
      "source": [
        "from sklearn.model_selection import cross_val_score\n",
        "score = cross_val_score(KNeighborsClassifier(n_neighbors=5),X,y,cv=5)\n",
        "print (\"5-fold cross validation accuracy: \" + str(np.mean(score)))"
      ],
      "execution_count": 43,
      "outputs": [
        {
          "output_type": "stream",
          "text": [
            "5-fold cross validation accuracy: 0.9008\n"
          ],
          "name": "stdout"
        }
      ]
    },
    {
      "cell_type": "markdown",
      "metadata": {
        "id": "CrunWpXh4WdF",
        "colab_type": "text"
      },
      "source": [
        "###Part 3.4: Calculate Confusion Matrix (Precision, Recall, Accuracy)"
      ]
    },
    {
      "cell_type": "code",
      "metadata": {
        "id": "t2q_hY5Oz6WY",
        "colab_type": "code",
        "colab": {}
      },
      "source": [
        "from sklearn.metrics import confusion_matrix\n",
        "from sklearn.metrics import precision_score\n",
        "from sklearn.metrics import recall_score\n",
        "\n",
        "def cal_evaluation(classifier, cm):\n",
        "    tn = cm[0][0]\n",
        "    fp = cm[0][1]\n",
        "    fn = cm[1][0]\n",
        "    tp = cm[1][1]\n",
        "    accuracy  = (tp + tn) / (tp + fp + fn + tn + 0.0)\n",
        "    precision = tp / (tp + fp + 0.0)\n",
        "    recall = tp / (tp + fn + 0.0)\n",
        "    print (classifier)\n",
        "    print (\"Accuracy is \" + str(accuracy))\n",
        "    print (\"Precision is \" + str(precision))\n",
        "    print (\"Recall is \" + str(recall))\n",
        "\n",
        "def draw_confusion_matrices(confusion_matricies,class_names):\n",
        "    class_names = ['Not','Churn']\n",
        "    for cm in confusion_matrices:\n",
        "        classifier, cm = cm[0], cm[1]\n",
        "        cal_evaluation(classifier, cm)\n",
        "        fig = plt.figure()\n",
        "        ax = fig.add_subplot(111)\n",
        "        cax = ax.matshow(cm, interpolation='nearest',cmap=plt.get_cmap('Reds'))\n",
        "        plt.title('Confusion matrix for %s' % classifier)\n",
        "        fig.colorbar(cax)\n",
        "        ax.set_xticklabels([''] + class_names)\n",
        "        ax.set_yticklabels([''] + class_names)\n",
        "        plt.xlabel('Predicted')\n",
        "        plt.ylabel('True')\n",
        "        plt.show()"
      ],
      "execution_count": 0,
      "outputs": []
    },
    {
      "cell_type": "code",
      "metadata": {
        "id": "u4b1Ax58z-mE",
        "colab_type": "code",
        "colab": {
          "base_uri": "https://localhost:8080/",
          "height": 1000
        },
        "outputId": "0a26bd51-d596-43f8-c512-59ad01f1bdae"
      },
      "source": [
        "%matplotlib inline\n",
        "\n",
        "y = np.array(y)\n",
        "class_names = np.unique(y)\n",
        "print (class_names)\n",
        "\n",
        "confusion_matrices = [\n",
        "    (\"Random Forest\", confusion_matrix(y,RF_CV_result)),\n",
        "    (\"K-Nearest-Neighbors\", confusion_matrix(y,KNN_CV_result)),\n",
        "    (\"Logisitic Regression\", confusion_matrix(y,LR_CV_result))\n",
        "]\n",
        "\n",
        "draw_confusion_matrices(confusion_matrices,class_names)"
      ],
      "execution_count": 45,
      "outputs": [
        {
          "output_type": "stream",
          "text": [
            "[0 1]\n",
            "Random Forest\n",
            "Accuracy is 0.958\n",
            "Precision is 0.9413854351687388\n",
            "Recall is 0.7496463932107497\n"
          ],
          "name": "stdout"
        },
        {
          "output_type": "display_data",
          "data": {
            "image/png": "[encoded data removed]",
            "text/plain": [
              "<Figure size 432x288 with 2 Axes>"
            ]
          },
          "metadata": {
            "tags": []
          }
        },
        {
          "output_type": "stream",
          "text": [
            "K-Nearest-Neighbors\n",
            "Accuracy is 0.9004\n",
            "Precision is 0.8426229508196721\n",
            "Recall is 0.3635077793493635\n"
          ],
          "name": "stdout"
        },
        {
          "output_type": "display_data",
          "data": {
            "image/png": "[encoded data removed]",
            "text/plain": [
              "<Figure size 432x288 with 2 Axes>"
            ]
          },
          "metadata": {
            "tags": []
          }
        },
        {
          "output_type": "stream",
          "text": [
            "Logisitic Regression\n",
            "Accuracy is 0.8644\n",
            "Precision is 0.5573122529644269\n",
            "Recall is 0.19943422913719944\n"
          ],
          "name": "stdout"
        },
        {
          "output_type": "display_data",
          "data": {
            "image/png": "[encoded data removed]",
            "text/plain": [
              "<Figure size 432x288 with 2 Axes>"
            ]
          },
          "metadata": {
            "tags": []
          }
        }
      ]
    },
    {
      "cell_type": "markdown",
      "metadata": {
        "id": "SshI69Q54dBW",
        "colab_type": "text"
      },
      "source": [
        "#Part 4: Feature Selection\n",
        "###Part 4.1: Logistic Regression Model - Feature Selection Discussion\n",
        "The corelated features that we are interested in: (total_day_minutes, total_day_charge), (total_eve_minutes, total_eve_charge), (total_intl_minutes, total_intl_charge).\n",
        "\n",
        "####Part 4.1.1 - Compare Feature Coefficients"
      ]
    },
    {
      "cell_type": "code",
      "metadata": {
        "id": "q8vccHBs0Hou",
        "colab_type": "code",
        "colab": {
          "base_uri": "https://localhost:8080/",
          "height": 319
        },
        "outputId": "11d60ab4-edbb-4d75-b105-067cce44a5fb"
      },
      "source": [
        "LRmodel_l1 = LogisticRegression(solver='saga', penalty=\"l1\")\n",
        "LRmodel_l1.fit(X, y)\n",
        "LRmodel_l1.coef_[0]\n",
        "print (\"Logistic Regression (L1) Coefficients\")\n",
        "for k,v in sorted(zip(map(lambda x: round(x, 4), LRmodel_l1.coef_[0]), \\\n",
        "                      churn_feat_space.columns), key=lambda k_v:(-abs(k_v[0]),k_v[1])):\n",
        "    print (v + \": \" + str(k))"
      ],
      "execution_count": 47,
      "outputs": [
        {
          "output_type": "stream",
          "text": [
            "Logistic Regression (L1) Coefficients\n",
            "voice_mail_plan: -0.8689\n",
            "number_customer_service_calls: 0.674\n",
            "intl_plan: 0.6137\n",
            "number_vmail_messages: 0.3982\n",
            "total_day_minutes: 0.3828\n",
            "total_day_charge: 0.3528\n",
            "total_eve_charge: 0.1828\n",
            "total_eve_minutes: 0.1756\n",
            "total_intl_calls: -0.1746\n",
            "total_intl_charge: 0.1363\n",
            "total_night_minutes: 0.1137\n",
            "total_intl_minutes: 0.1074\n",
            "total_night_charge: 0.0883\n",
            "account_length: 0.0534\n",
            "total_day_calls: 0.0495\n",
            "total_night_calls: -0.0288\n",
            "total_eve_calls: -0.0284\n"
          ],
          "name": "stdout"
        }
      ]
    },
    {
      "cell_type": "code",
      "metadata": {
        "id": "sljNtdJv1v_6",
        "colab_type": "code",
        "colab": {
          "base_uri": "https://localhost:8080/",
          "height": 319
        },
        "outputId": "ef1e0132-9c1a-4fb3-cf66-0a258485b268"
      },
      "source": [
        "LRmodel_l2 = LogisticRegression(penalty=\"l2\")\n",
        "LRmodel_l2.fit(X, y)\n",
        "LRmodel_l2.coef_[0]\n",
        "print (\"Logistic Regression (L2) Coefficients\")\n",
        "for k,v in sorted(zip(map(lambda x: round(x, 4), LRmodel_l2.coef_[0]), \\\n",
        "                      churn_feat_space.columns), key=lambda k_v:(-abs(k_v[0]),k_v[1])):\n",
        "    print (v + \": \" + str(k))"
      ],
      "execution_count": 48,
      "outputs": [
        {
          "output_type": "stream",
          "text": [
            "Logistic Regression (L2) Coefficients\n",
            "voice_mail_plan: -0.898\n",
            "number_customer_service_calls: 0.6754\n",
            "intl_plan: 0.6149\n",
            "number_vmail_messages: 0.4262\n",
            "total_day_minutes: 0.3695\n",
            "total_day_charge: 0.3685\n",
            "total_eve_charge: 0.1806\n",
            "total_eve_minutes: 0.1803\n",
            "total_intl_calls: -0.1768\n",
            "total_intl_charge: 0.1234\n",
            "total_intl_minutes: 0.1228\n",
            "total_night_minutes: 0.1026\n",
            "total_night_charge: 0.1018\n",
            "account_length: 0.0553\n",
            "total_day_calls: 0.0516\n",
            "total_night_calls: -0.0308\n",
            "total_eve_calls: -0.0305\n"
          ],
          "name": "stdout"
        }
      ]
    },
    {
      "cell_type": "markdown",
      "metadata": {
        "id": "FrKEHq5o4q6Q",
        "colab_type": "text"
      },
      "source": [
        "###Part 4.2: Random Forest Model - Feature Importance Discussion"
      ]
    },
    {
      "cell_type": "code",
      "metadata": {
        "id": "HZlu_5U512zq",
        "colab_type": "code",
        "colab": {
          "base_uri": "https://localhost:8080/",
          "height": 319
        },
        "outputId": "a1edadd7-e2c2-4d2d-c6d7-6b8dce73934e"
      },
      "source": [
        "forest = RandomForestClassifier()\n",
        "forest.fit(X, y)\n",
        "\n",
        "importances = forest.feature_importances_\n",
        "\n",
        "# Print the feature ranking\n",
        "print(\"Feature importance ranking by Random Forest Model:\")\n",
        "for k,v in sorted(zip(map(lambda x: round(x, 4), importances), churn_feat_space.columns), reverse=True):\n",
        "    print (v + \": \" + str(k))"
      ],
      "execution_count": 49,
      "outputs": [
        {
          "output_type": "stream",
          "text": [
            "Feature importance ranking by Random Forest Model:\n",
            "total_day_charge: 0.1499\n",
            "total_day_minutes: 0.1426\n",
            "number_customer_service_calls: 0.1147\n",
            "intl_plan: 0.0829\n",
            "total_eve_minutes: 0.0665\n",
            "total_eve_charge: 0.0642\n",
            "total_intl_calls: 0.06\n",
            "total_intl_minutes: 0.0439\n",
            "total_night_minutes: 0.0415\n",
            "total_night_charge: 0.0399\n",
            "total_intl_charge: 0.039\n",
            "number_vmail_messages: 0.0305\n",
            "account_length: 0.0281\n",
            "total_day_calls: 0.027\n",
            "total_night_calls: 0.026\n",
            "total_eve_calls: 0.0236\n",
            "voice_mail_plan: 0.0197\n"
          ],
          "name": "stdout"
        }
      ]
    },
    {
      "cell_type": "markdown",
      "metadata": {
        "id": "fXVR7bJb4yAf",
        "colab_type": "text"
      },
      "source": [
        "#Part 5: Use Probabilities as Prediction Results\n",
        "RandomForestClassifier, KNeighborsClassifier and LogisticRegression have predict_prob() function"
      ]
    },
    {
      "cell_type": "code",
      "metadata": {
        "id": "hSUpySaw17A4",
        "colab_type": "code",
        "colab": {}
      },
      "source": [
        "def run_prob_cv(X, y, clf_class, roc=False, **kwargs):\n",
        "    kf = KFold(n_splits =5)\n",
        "    y_prob = np.zeros((len(y),2))\n",
        "    for train_index, test_index in kf.split(y):\n",
        "        X_train, X_test = X[train_index], X[test_index]\n",
        "        y_train = y[train_index]\n",
        "        clf = clf_class(**kwargs)\n",
        "        clf.fit(X_train,y_train)\n",
        "        # Predict probabilities, not classes\n",
        "        y_prob[test_index] = clf.predict_proba(X_test)\n",
        "    return y_prob"
      ],
      "execution_count": 0,
      "outputs": []
    },
    {
      "cell_type": "markdown",
      "metadata": {
        "id": "DQKVAb1D42qK",
        "colab_type": "text"
      },
      "source": [
        "Result Evaluation: Use the ground truth probability to compare with our probability prediction results."
      ]
    },
    {
      "cell_type": "code",
      "metadata": {
        "id": "npdQIZwv19o9",
        "colab_type": "code",
        "colab": {}
      },
      "source": [
        "from collections import defaultdict\n",
        "true_prob = defaultdict(float)\n",
        "\n",
        "pred_prob = run_prob_cv(X, y, RandomForestClassifier, n_estimators=10)\n",
        "pred_churn = pred_prob[:,1]\n",
        "is_churn = (y == 1)\n",
        "\n",
        "counts = pd.value_counts(pred_churn)\n",
        "for prob in counts.index:\n",
        "    true_prob[prob] = np.mean(is_churn[pred_churn == prob])\n",
        "true_prob = pd.Series(true_prob)"
      ],
      "execution_count": 0,
      "outputs": []
    },
    {
      "cell_type": "code",
      "metadata": {
        "id": "2OHdiMUK2RNJ",
        "colab_type": "code",
        "colab": {
          "base_uri": "https://localhost:8080/",
          "height": 373
        },
        "outputId": "9ef552f8-e257-4f6b-f28f-ae78143109fb"
      },
      "source": [
        "EvaResults = pd.concat([counts,true_prob], axis=1).reset_index()\n",
        "EvaResults.columns = ['pred_prob', 'count', 'true_prob']\n",
        "EvaResults"
      ],
      "execution_count": 54,
      "outputs": [
        {
          "output_type": "execute_result",
          "data": {
            "text/html": [
              "<div>\n",
              "<style scoped>\n",
              "    .dataframe tbody tr th:only-of-type {\n",
              "        vertical-align: middle;\n",
              "    }\n",
              "\n",
              "    .dataframe tbody tr th {\n",
              "        vertical-align: top;\n",
              "    }\n",
              "\n",
              "    .dataframe thead th {\n",
              "        text-align: right;\n",
              "    }\n",
              "</style>\n",
              "<table border=\"1\" class=\"dataframe\">\n",
              "  <thead>\n",
              "    <tr style=\"text-align: right;\">\n",
              "      <th></th>\n",
              "      <th>pred_prob</th>\n",
              "      <th>count</th>\n",
              "      <th>true_prob</th>\n",
              "    </tr>\n",
              "  </thead>\n",
              "  <tbody>\n",
              "    <tr>\n",
              "      <th>0</th>\n",
              "      <td>0.0</td>\n",
              "      <td>2740</td>\n",
              "      <td>0.026642</td>\n",
              "    </tr>\n",
              "    <tr>\n",
              "      <th>1</th>\n",
              "      <td>0.1</td>\n",
              "      <td>1071</td>\n",
              "      <td>0.024276</td>\n",
              "    </tr>\n",
              "    <tr>\n",
              "      <th>2</th>\n",
              "      <td>0.2</td>\n",
              "      <td>354</td>\n",
              "      <td>0.050847</td>\n",
              "    </tr>\n",
              "    <tr>\n",
              "      <th>3</th>\n",
              "      <td>0.3</td>\n",
              "      <td>142</td>\n",
              "      <td>0.204225</td>\n",
              "    </tr>\n",
              "    <tr>\n",
              "      <th>4</th>\n",
              "      <td>0.9</td>\n",
              "      <td>137</td>\n",
              "      <td>0.992701</td>\n",
              "    </tr>\n",
              "    <tr>\n",
              "      <th>5</th>\n",
              "      <td>0.8</td>\n",
              "      <td>118</td>\n",
              "      <td>0.957627</td>\n",
              "    </tr>\n",
              "    <tr>\n",
              "      <th>6</th>\n",
              "      <td>1.0</td>\n",
              "      <td>116</td>\n",
              "      <td>1.000000</td>\n",
              "    </tr>\n",
              "    <tr>\n",
              "      <th>7</th>\n",
              "      <td>0.4</td>\n",
              "      <td>101</td>\n",
              "      <td>0.336634</td>\n",
              "    </tr>\n",
              "    <tr>\n",
              "      <th>8</th>\n",
              "      <td>0.6</td>\n",
              "      <td>86</td>\n",
              "      <td>0.732558</td>\n",
              "    </tr>\n",
              "    <tr>\n",
              "      <th>9</th>\n",
              "      <td>0.7</td>\n",
              "      <td>76</td>\n",
              "      <td>0.855263</td>\n",
              "    </tr>\n",
              "    <tr>\n",
              "      <th>10</th>\n",
              "      <td>0.5</td>\n",
              "      <td>59</td>\n",
              "      <td>0.576271</td>\n",
              "    </tr>\n",
              "  </tbody>\n",
              "</table>\n",
              "</div>"
            ],
            "text/plain": [
              "    pred_prob  count  true_prob\n",
              "0         0.0   2740   0.026642\n",
              "1         0.1   1071   0.024276\n",
              "2         0.2    354   0.050847\n",
              "3         0.3    142   0.204225\n",
              "4         0.9    137   0.992701\n",
              "5         0.8    118   0.957627\n",
              "6         1.0    116   1.000000\n",
              "7         0.4    101   0.336634\n",
              "8         0.6     86   0.732558\n",
              "9         0.7     76   0.855263\n",
              "10        0.5     59   0.576271"
            ]
          },
          "metadata": {
            "tags": []
          },
          "execution_count": 54
        }
      ]
    }
  ]
}