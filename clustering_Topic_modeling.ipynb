{
  "nbformat": 4,
  "nbformat_minor": 0,
  "metadata": {
    "colab": {
      "name": "clustering Topic modeling.ipynb",
      "provenance": [],
      "authorship_tag": "ABX9TyN2M1Wcd0Fq7zyHwr2Ti/P4",
      "include_colab_link": true
    },
    "kernelspec": {
      "name": "python3",
      "display_name": "Python 3"
    },
    "accelerator": "GPU"
  },
  "cells": [
    {
      "cell_type": "markdown",
      "metadata": {
        "id": "view-in-github",
        "colab_type": "text"
      },
      "source": [
        "<a href=\"https://colab.research.google.com/github/singhbhupender1/DataSciencePortfolio/blob/master/clustering_Topic_modeling.ipynb\" target=\"_parent\"><img src=\"https://colab.research.google.com/assets/colab-badge.svg\" alt=\"Open In Colab\"/></a>"
      ]
    },
    {
      "cell_type": "markdown",
      "metadata": {
        "id": "az4AImpT6cW6",
        "colab_type": "text"
      },
      "source": [
        "#Document Clustering and Topic Modeling\n",
        "In this project, we use unsupervised learning models to cluster unlabeled documents into different groups, visualize the results and identify their latent topics/structures.\n",
        "\n",
        "##Contents\n",
        "* [Part 1: Load Data](#Part-1:-Load-Data)\n",
        "* [Part 2: Tokenizing and Stemming](#Part-2:-Tokenizing-and-Stemming)\n",
        "* [Part 3: TF-IDF](#Part-3:-TF-IDF)\n",
        "* [Part 4: K-means clustering](#Part-4:-K-means-clustering)\n",
        "* [Part 5: Topic Modeling - Latent Dirichlet Allocation](#Part-5:-Topic-Modeling---Latent-Dirichlet-Allocation)"
      ]
    },
    {
      "cell_type": "code",
      "metadata": {
        "id": "rcsdhMUC5mLo",
        "colab_type": "code",
        "outputId": "47236fb5-f8f6-4840-e215-b2d87f51486a",
        "colab": {
          "base_uri": "https://localhost:8080/",
          "height": 188
        }
      },
      "source": [
        "!pip install lda"
      ],
      "execution_count": 0,
      "outputs": [
        {
          "output_type": "stream",
          "text": [
            "Collecting lda\n",
            "\u001b[?25l  Downloading https://files.pythonhosted.org/packages/fd/27/d62628d914bff7f048e2b433c3adea9e7072fa20028f1d4194999051cd9d/lda-1.1.0-cp36-cp36m-manylinux1_x86_64.whl (348kB)\n",
            "\u001b[K     |████████████████████████████████| 358kB 4.8MB/s \n",
            "\u001b[?25hRequirement already satisfied: numpy<2.0,>=1.13.0 in /usr/local/lib/python3.6/dist-packages (from lda) (1.17.5)\n",
            "Collecting pbr<4,>=0.6\n",
            "\u001b[?25l  Downloading https://files.pythonhosted.org/packages/0c/5d/b077dbf309993d52c1d71e6bf6fe443a8029ea215135ebbe0b1b10e7aefc/pbr-3.1.1-py2.py3-none-any.whl (99kB)\n",
            "\u001b[K     |████████████████████████████████| 102kB 14.2MB/s \n",
            "\u001b[?25hInstalling collected packages: pbr, lda\n",
            "Successfully installed lda-1.1.0 pbr-3.1.1\n"
          ],
          "name": "stdout"
        }
      ]
    },
    {
      "cell_type": "markdown",
      "metadata": {
        "id": "64mVdpx57Ie-",
        "colab_type": "text"
      },
      "source": [
        "#Part 1: Load Data"
      ]
    },
    {
      "cell_type": "code",
      "metadata": {
        "id": "SfABw4Vs2hAQ",
        "colab_type": "code",
        "colab": {}
      },
      "source": [
        "import warnings\n",
        "warnings.filterwarnings('ignore')\n",
        "import numpy as np\n",
        "import pandas as pd\n",
        "import nltk\n",
        "import re\n",
        "import os\n",
        "\n",
        "from sklearn import decomposition\n",
        "from sklearn.feature_extraction.text import TfidfVectorizer\n",
        "import matplotlib.pyplot as plt\n",
        "import lda"
      ],
      "execution_count": 0,
      "outputs": []
    },
    {
      "cell_type": "code",
      "metadata": {
        "id": "PUlVzZws3pRD",
        "colab_type": "code",
        "outputId": "5eb0cd51-1163-4c3c-9a74-dd149fb28304",
        "colab": {
          "base_uri": "https://localhost:8080/",
          "height": 806
        }
      },
      "source": [
        "nltk.download('popular')"
      ],
      "execution_count": 0,
      "outputs": [
        {
          "output_type": "stream",
          "text": [
            "[nltk_data] Downloading collection 'popular'\n",
            "[nltk_data]    | \n",
            "[nltk_data]    | Downloading package cmudict to /root/nltk_data...\n",
            "[nltk_data]    |   Package cmudict is already up-to-date!\n",
            "[nltk_data]    | Downloading package gazetteers to /root/nltk_data...\n",
            "[nltk_data]    |   Package gazetteers is already up-to-date!\n",
            "[nltk_data]    | Downloading package genesis to /root/nltk_data...\n",
            "[nltk_data]    |   Package genesis is already up-to-date!\n",
            "[nltk_data]    | Downloading package gutenberg to /root/nltk_data...\n",
            "[nltk_data]    |   Package gutenberg is already up-to-date!\n",
            "[nltk_data]    | Downloading package inaugural to /root/nltk_data...\n",
            "[nltk_data]    |   Package inaugural is already up-to-date!\n",
            "[nltk_data]    | Downloading package movie_reviews to\n",
            "[nltk_data]    |     /root/nltk_data...\n",
            "[nltk_data]    |   Package movie_reviews is already up-to-date!\n",
            "[nltk_data]    | Downloading package names to /root/nltk_data...\n",
            "[nltk_data]    |   Package names is already up-to-date!\n",
            "[nltk_data]    | Downloading package shakespeare to /root/nltk_data...\n",
            "[nltk_data]    |   Package shakespeare is already up-to-date!\n",
            "[nltk_data]    | Downloading package stopwords to /root/nltk_data...\n",
            "[nltk_data]    |   Package stopwords is already up-to-date!\n",
            "[nltk_data]    | Downloading package treebank to /root/nltk_data...\n",
            "[nltk_data]    |   Package treebank is already up-to-date!\n",
            "[nltk_data]    | Downloading package twitter_samples to\n",
            "[nltk_data]    |     /root/nltk_data...\n",
            "[nltk_data]    |   Unzipping corpora/twitter_samples.zip.\n",
            "[nltk_data]    | Downloading package omw to /root/nltk_data...\n",
            "[nltk_data]    |   Package omw is already up-to-date!\n",
            "[nltk_data]    | Downloading package wordnet to /root/nltk_data...\n",
            "[nltk_data]    |   Package wordnet is already up-to-date!\n",
            "[nltk_data]    | Downloading package wordnet_ic to /root/nltk_data...\n",
            "[nltk_data]    |   Package wordnet_ic is already up-to-date!\n",
            "[nltk_data]    | Downloading package words to /root/nltk_data...\n",
            "[nltk_data]    |   Package words is already up-to-date!\n",
            "[nltk_data]    | Downloading package maxent_ne_chunker to\n",
            "[nltk_data]    |     /root/nltk_data...\n",
            "[nltk_data]    |   Unzipping chunkers/maxent_ne_chunker.zip.\n",
            "[nltk_data]    | Downloading package punkt to /root/nltk_data...\n",
            "[nltk_data]    |   Unzipping tokenizers/punkt.zip.\n",
            "[nltk_data]    | Downloading package snowball_data to\n",
            "[nltk_data]    |     /root/nltk_data...\n",
            "[nltk_data]    | Downloading package averaged_perceptron_tagger to\n",
            "[nltk_data]    |     /root/nltk_data...\n",
            "[nltk_data]    |   Unzipping taggers/averaged_perceptron_tagger.zip.\n",
            "[nltk_data]    | \n",
            "[nltk_data]  Done downloading collection popular\n"
          ],
          "name": "stdout"
        },
        {
          "output_type": "execute_result",
          "data": {
            "text/plain": [
              "True"
            ]
          },
          "metadata": {
            "tags": []
          },
          "execution_count": 13
        }
      ]
    },
    {
      "cell_type": "markdown",
      "metadata": {
        "id": "5bYJ3wKL7RqV",
        "colab_type": "text"
      },
      "source": [
        "Read data from files. In summary, the data have 100 titles and 100 synoposes (combined from imdb and wiki)."
      ]
    },
    {
      "cell_type": "code",
      "metadata": {
        "id": "m1YQkvr124Al",
        "colab_type": "code",
        "colab": {}
      },
      "source": [
        "#import three lists: titles and wikipedia synopses\n",
        "#titles = open(os.path.join(data_path, 'title_list.txt')).read().split('\\n')\n",
        "titles = open('title_list.txt').read().split('\\n')\n",
        "titles = titles[:100] #ensures that only the first 100 are read in\n",
        "\n",
        "#The wiki synopses and imdb synopses of each movie is seperated by the keywords \"BREAKS HERE\". \n",
        "#Each synoposes may consist of multiple paragraphs.\n",
        "#synopses_wiki = open(os.path.join(data_path, 'synopses_list_wiki.txt')).read().split('\\n BREAKS HERE')\n",
        "synopses_wiki = open('synopses_list_wiki.txt').read().split('\\n BREAKS HERE')\n",
        "\n",
        "synopses_wiki = synopses_wiki[:100]\n",
        "\n",
        "#synopses_imdb = open(os.path.join(data_path, 'synopses_list_imdb.txt')).read().split('\\n BREAKS HERE')\n",
        "synopses_imdb = open('synopses_list_imdb.txt').read().split('\\n BREAKS HERE')\n",
        "synopses_imdb = synopses_imdb[:100]\n",
        "\n",
        "#Combine imdb and wiki to get full synoposes for the top 100 movies. \n",
        "synopses = []\n",
        "for i in range(len(synopses_wiki)):\n",
        "    item = synopses_wiki[i] + synopses_imdb[i]\n",
        "    synopses.append(item)\n",
        "    \n",
        "#Because these synopses have already been ordered in popularity order, \n",
        "#we just need to generate a list of ordered numbers for future usage.\n",
        "ranks = range(len(titles))"
      ],
      "execution_count": 0,
      "outputs": []
    },
    {
      "cell_type": "markdown",
      "metadata": {
        "id": "ZuEODb9Z7dUt",
        "colab_type": "text"
      },
      "source": [
        "#Part 2: Tokenizing and Stemming\n",
        "Load stopwords and stemmer function from NLTK library. Stop words are words like \"a\", \"the\", or \"in\" which don't convey significant meaning. Stemming is the process of breaking a word down into its root."
      ]
    },
    {
      "cell_type": "code",
      "metadata": {
        "id": "6NgGuFJo3hZ-",
        "colab_type": "code",
        "outputId": "821f9480-f2c5-409b-85f9-b20ac0bfd152",
        "colab": {
          "base_uri": "https://localhost:8080/",
          "height": 50
        }
      },
      "source": [
        "# Use nltk's English stopwords.\n",
        "stopwords = nltk.corpus.stopwords.words('english')\n",
        "\n",
        "print (\"We use \" + str(len(stopwords)) + \" stop-words from nltk library.\")\n",
        "print (stopwords[:10])"
      ],
      "execution_count": 0,
      "outputs": [
        {
          "output_type": "stream",
          "text": [
            "We use 179 stop-words from nltk library.\n",
            "['i', 'me', 'my', 'myself', 'we', 'our', 'ours', 'ourselves', 'you', \"you're\"]\n"
          ],
          "name": "stdout"
        }
      ]
    },
    {
      "cell_type": "code",
      "metadata": {
        "id": "lh0eACIG3hzV",
        "colab_type": "code",
        "colab": {}
      },
      "source": [
        "from nltk.stem.snowball import SnowballStemmer\n",
        "stemmer = SnowballStemmer(\"english\")\n",
        "\n",
        "def tokenization_and_stemming(text):\n",
        "    tokens = [word.lower() for sent in nltk.sent_tokenize(text) for word in nltk.word_tokenize(sent) if word not in stopwords]\n",
        "#     tokens=[]\n",
        "#     for sent in nltk.sent_tokenize(text):\n",
        "#         for word in nltk.word_tokenize(sent):\n",
        "#             if word not in stopwords:\n",
        "#                 tokens.append(word);   \n",
        "    filtered_tokens = []\n",
        "    # filter out any tokens not containing letters (e.g., numeric tokens, raw punctuation)\n",
        "    for token in tokens:\n",
        "        if re.search('[a-zA-Z]', token):\n",
        "            filtered_tokens.append(token)\n",
        "    stems = [stemmer.stem(t) for t in filtered_tokens]\n",
        "    return stems\n",
        "\n",
        "def tokenization(text):\n",
        "    tokens = [word.lower() for sent in nltk.sent_tokenize(text) for word in nltk.word_tokenize(sent) if word not in stopwords]\n",
        "    filtered_tokens = []\n",
        "    for token in tokens:\n",
        "        if re.search('[a-zA-Z]', token):\n",
        "            filtered_tokens.append(token)\n",
        "    return filtered_tokens"
      ],
      "execution_count": 0,
      "outputs": []
    },
    {
      "cell_type": "code",
      "metadata": {
        "id": "8-yjT71u4XL7",
        "colab_type": "code",
        "outputId": "78b86184-18c0-4d3c-fc3c-ba4952a292ba",
        "colab": {
          "base_uri": "https://localhost:8080/",
          "height": 34
        }
      },
      "source": [
        "tokenization_and_stemming(\"she looked at her father's arm.\")\n"
      ],
      "execution_count": 0,
      "outputs": [
        {
          "output_type": "execute_result",
          "data": {
            "text/plain": [
              "['look', 'father', \"'s\", 'arm']"
            ]
          },
          "metadata": {
            "tags": []
          },
          "execution_count": 14
        }
      ]
    },
    {
      "cell_type": "markdown",
      "metadata": {
        "id": "0sFdrPiv7j3-",
        "colab_type": "text"
      },
      "source": [
        "Use the defined functions to analyze (i.e. tokenize, stem) our synoposes."
      ]
    },
    {
      "cell_type": "code",
      "metadata": {
        "id": "MKd42QId4XmL",
        "colab_type": "code",
        "colab": {}
      },
      "source": [
        "docs_stemmed = []\n",
        "docs_tokenized = []\n",
        "for i in synopses:\n",
        "    tokenized_and_stemmed_results = tokenization_and_stemming(i)\n",
        "    docs_stemmed.extend(tokenized_and_stemmed_results)\n",
        "    \n",
        "    tokenized_results = tokenization(i)\n",
        "    docs_tokenized.extend(tokenized_results)"
      ],
      "execution_count": 0,
      "outputs": []
    },
    {
      "cell_type": "markdown",
      "metadata": {
        "id": "YVC_RODg7rCr",
        "colab_type": "text"
      },
      "source": [
        "Create a mapping from stemmed words to original tokenized words for result interpretation."
      ]
    },
    {
      "cell_type": "code",
      "metadata": {
        "id": "ryU-LXSf4ndS",
        "colab_type": "code",
        "outputId": "4166f688-d385-452f-d44b-05a6bf018e59",
        "colab": {
          "base_uri": "https://localhost:8080/",
          "height": 34
        }
      },
      "source": [
        "vocab_frame_dict = {docs_stemmed[x]:docs_tokenized[x] for x in range(len(docs_stemmed))}\n",
        "print (vocab_frame_dict['angel'])"
      ],
      "execution_count": 0,
      "outputs": [
        {
          "output_type": "stream",
          "text": [
            "angeles\n"
          ],
          "name": "stdout"
        }
      ]
    },
    {
      "cell_type": "markdown",
      "metadata": {
        "id": "n_qPSaVI7v9N",
        "colab_type": "text"
      },
      "source": [
        "#Part 3: TF-IDF"
      ]
    },
    {
      "cell_type": "code",
      "metadata": {
        "id": "3uJitR6G4psL",
        "colab_type": "code",
        "outputId": "97b946d7-6033-4be3-c26b-d5eeb175da99",
        "colab": {
          "base_uri": "https://localhost:8080/",
          "height": 34
        }
      },
      "source": [
        "#define vectorizer parameters\n",
        "tfidf_model = TfidfVectorizer(max_df=0.8, max_features=200000,\n",
        "                                 min_df=0.2, stop_words='english',\n",
        "                                 use_idf=True, tokenizer=tokenization_and_stemming, ngram_range=(1,1))\n",
        "\n",
        "tfidf_matrix = tfidf_model.fit_transform(synopses) #fit the vectorizer to synopses\n",
        "\n",
        "print (\"In total, there are \" + str(tfidf_matrix.shape[0]) + \\\n",
        "      \" synoposes and \" + str(tfidf_matrix.shape[1]) + \" terms.\")"
      ],
      "execution_count": 0,
      "outputs": [
        {
          "output_type": "stream",
          "text": [
            "In total, there are 100 synoposes and 538 terms.\n"
          ],
          "name": "stdout"
        }
      ]
    },
    {
      "cell_type": "code",
      "metadata": {
        "id": "VbwCtExo4sVD",
        "colab_type": "code",
        "outputId": "44fda61c-0aa5-41a0-8386-0abed4206ce0",
        "colab": {
          "base_uri": "https://localhost:8080/",
          "height": 370
        }
      },
      "source": [
        "\n",
        "tfidf_model.get_params()"
      ],
      "execution_count": 0,
      "outputs": [
        {
          "output_type": "execute_result",
          "data": {
            "text/plain": [
              "{'analyzer': 'word',\n",
              " 'binary': False,\n",
              " 'decode_error': 'strict',\n",
              " 'dtype': numpy.float64,\n",
              " 'encoding': 'utf-8',\n",
              " 'input': 'content',\n",
              " 'lowercase': True,\n",
              " 'max_df': 0.8,\n",
              " 'max_features': 200000,\n",
              " 'min_df': 0.2,\n",
              " 'ngram_range': (1, 1),\n",
              " 'norm': 'l2',\n",
              " 'preprocessor': None,\n",
              " 'smooth_idf': True,\n",
              " 'stop_words': 'english',\n",
              " 'strip_accents': None,\n",
              " 'sublinear_tf': False,\n",
              " 'token_pattern': '(?u)\\\\b\\\\w\\\\w+\\\\b',\n",
              " 'tokenizer': <function __main__.tokenization_and_stemming>,\n",
              " 'use_idf': True,\n",
              " 'vocabulary': None}"
            ]
          },
          "metadata": {
            "tags": []
          },
          "execution_count": 18
        }
      ]
    },
    {
      "cell_type": "markdown",
      "metadata": {
        "id": "MDvYUaw474Rp",
        "colab_type": "text"
      },
      "source": [
        "Save the terms identified by TF-IDF."
      ]
    },
    {
      "cell_type": "code",
      "metadata": {
        "id": "ppmv-DbI4vM9",
        "colab_type": "code",
        "colab": {}
      },
      "source": [
        "tf_selected_words = tfidf_model.get_feature_names()"
      ],
      "execution_count": 0,
      "outputs": []
    },
    {
      "cell_type": "markdown",
      "metadata": {
        "id": "kBzYj77w8BgJ",
        "colab_type": "text"
      },
      "source": [
        "#Part 4: K-means clustering"
      ]
    },
    {
      "cell_type": "code",
      "metadata": {
        "id": "JwkrLUrE42zP",
        "colab_type": "code",
        "colab": {}
      },
      "source": [
        "from sklearn.cluster import KMeans\n",
        "\n",
        "num_clusters = 5\n",
        "km = KMeans(n_clusters=num_clusters)\n",
        "km.fit(tfidf_matrix)\n",
        "clusters = km.labels_.tolist()"
      ],
      "execution_count": 0,
      "outputs": []
    },
    {
      "cell_type": "markdown",
      "metadata": {
        "id": "P2KvI9vj8J7Z",
        "colab_type": "text"
      },
      "source": [
        "##4.1. Analyze K-means Result"
      ]
    },
    {
      "cell_type": "code",
      "metadata": {
        "id": "shrrZw_t43qk",
        "colab_type": "code",
        "colab": {}
      },
      "source": [
        "# create DataFrame films from all of the input files.\n",
        "films = { 'title': titles, 'rank': ranks, 'synopsis': synopses, 'cluster': clusters}\n",
        "frame = pd.DataFrame(films, index = [clusters] , columns = ['rank', 'title', 'cluster'])"
      ],
      "execution_count": 0,
      "outputs": []
    },
    {
      "cell_type": "code",
      "metadata": {
        "id": "od6274_G49el",
        "colab_type": "code",
        "outputId": "93b6f542-0f97-47bd-a791-dafb790280cf",
        "colab": {
          "base_uri": "https://localhost:8080/",
          "height": 343
        }
      },
      "source": [
        "frame.head(10)\n"
      ],
      "execution_count": 0,
      "outputs": [
        {
          "output_type": "execute_result",
          "data": {
            "text/html": [
              "<div>\n",
              "<style scoped>\n",
              "    .dataframe tbody tr th:only-of-type {\n",
              "        vertical-align: middle;\n",
              "    }\n",
              "\n",
              "    .dataframe tbody tr th {\n",
              "        vertical-align: top;\n",
              "    }\n",
              "\n",
              "    .dataframe thead th {\n",
              "        text-align: right;\n",
              "    }\n",
              "</style>\n",
              "<table border=\"1\" class=\"dataframe\">\n",
              "  <thead>\n",
              "    <tr style=\"text-align: right;\">\n",
              "      <th></th>\n",
              "      <th>rank</th>\n",
              "      <th>title</th>\n",
              "      <th>cluster</th>\n",
              "    </tr>\n",
              "  </thead>\n",
              "  <tbody>\n",
              "    <tr>\n",
              "      <th>1</th>\n",
              "      <td>0</td>\n",
              "      <td>The Godfather</td>\n",
              "      <td>1</td>\n",
              "    </tr>\n",
              "    <tr>\n",
              "      <th>2</th>\n",
              "      <td>1</td>\n",
              "      <td>The Shawshank Redemption</td>\n",
              "      <td>2</td>\n",
              "    </tr>\n",
              "    <tr>\n",
              "      <th>2</th>\n",
              "      <td>2</td>\n",
              "      <td>Schindler's List</td>\n",
              "      <td>2</td>\n",
              "    </tr>\n",
              "    <tr>\n",
              "      <th>0</th>\n",
              "      <td>3</td>\n",
              "      <td>Raging Bull</td>\n",
              "      <td>0</td>\n",
              "    </tr>\n",
              "    <tr>\n",
              "      <th>2</th>\n",
              "      <td>4</td>\n",
              "      <td>Casablanca</td>\n",
              "      <td>2</td>\n",
              "    </tr>\n",
              "    <tr>\n",
              "      <th>2</th>\n",
              "      <td>5</td>\n",
              "      <td>One Flew Over the Cuckoo's Nest</td>\n",
              "      <td>2</td>\n",
              "    </tr>\n",
              "    <tr>\n",
              "      <th>3</th>\n",
              "      <td>6</td>\n",
              "      <td>Gone with the Wind</td>\n",
              "      <td>3</td>\n",
              "    </tr>\n",
              "    <tr>\n",
              "      <th>0</th>\n",
              "      <td>7</td>\n",
              "      <td>Citizen Kane</td>\n",
              "      <td>0</td>\n",
              "    </tr>\n",
              "    <tr>\n",
              "      <th>1</th>\n",
              "      <td>8</td>\n",
              "      <td>The Wizard of Oz</td>\n",
              "      <td>1</td>\n",
              "    </tr>\n",
              "    <tr>\n",
              "      <th>0</th>\n",
              "      <td>9</td>\n",
              "      <td>Titanic</td>\n",
              "      <td>0</td>\n",
              "    </tr>\n",
              "  </tbody>\n",
              "</table>\n",
              "</div>"
            ],
            "text/plain": [
              "   rank                            title  cluster\n",
              "1     0                    The Godfather        1\n",
              "2     1         The Shawshank Redemption        2\n",
              "2     2                 Schindler's List        2\n",
              "0     3                      Raging Bull        0\n",
              "2     4                       Casablanca        2\n",
              "2     5  One Flew Over the Cuckoo's Nest        2\n",
              "3     6               Gone with the Wind        3\n",
              "0     7                     Citizen Kane        0\n",
              "1     8                 The Wizard of Oz        1\n",
              "0     9                          Titanic        0"
            ]
          },
          "metadata": {
            "tags": []
          },
          "execution_count": 22
        }
      ]
    },
    {
      "cell_type": "code",
      "metadata": {
        "id": "60xeqaLS5ADK",
        "colab_type": "code",
        "outputId": "abed633d-8729-4e7c-a2ad-1c3ff08e455a",
        "colab": {
          "base_uri": "https://localhost:8080/",
          "height": 212
        }
      },
      "source": [
        "print (\"Number of films included in each cluster:\")\n",
        "frame['cluster'].value_counts().to_frame()"
      ],
      "execution_count": 0,
      "outputs": [
        {
          "output_type": "stream",
          "text": [
            "Number of films included in each cluster:\n"
          ],
          "name": "stdout"
        },
        {
          "output_type": "execute_result",
          "data": {
            "text/html": [
              "<div>\n",
              "<style scoped>\n",
              "    .dataframe tbody tr th:only-of-type {\n",
              "        vertical-align: middle;\n",
              "    }\n",
              "\n",
              "    .dataframe tbody tr th {\n",
              "        vertical-align: top;\n",
              "    }\n",
              "\n",
              "    .dataframe thead th {\n",
              "        text-align: right;\n",
              "    }\n",
              "</style>\n",
              "<table border=\"1\" class=\"dataframe\">\n",
              "  <thead>\n",
              "    <tr style=\"text-align: right;\">\n",
              "      <th></th>\n",
              "      <th>cluster</th>\n",
              "    </tr>\n",
              "  </thead>\n",
              "  <tbody>\n",
              "    <tr>\n",
              "      <th>1</th>\n",
              "      <td>41</td>\n",
              "    </tr>\n",
              "    <tr>\n",
              "      <th>2</th>\n",
              "      <td>22</td>\n",
              "    </tr>\n",
              "    <tr>\n",
              "      <th>3</th>\n",
              "      <td>17</td>\n",
              "    </tr>\n",
              "    <tr>\n",
              "      <th>0</th>\n",
              "      <td>14</td>\n",
              "    </tr>\n",
              "    <tr>\n",
              "      <th>4</th>\n",
              "      <td>6</td>\n",
              "    </tr>\n",
              "  </tbody>\n",
              "</table>\n",
              "</div>"
            ],
            "text/plain": [
              "   cluster\n",
              "1       41\n",
              "2       22\n",
              "3       17\n",
              "0       14\n",
              "4        6"
            ]
          },
          "metadata": {
            "tags": []
          },
          "execution_count": 23
        }
      ]
    },
    {
      "cell_type": "code",
      "metadata": {
        "id": "JZNPGW5e5B81",
        "colab_type": "code",
        "outputId": "234fbf2f-0261-468d-c764-18bdd9d47dd8",
        "colab": {
          "base_uri": "https://localhost:8080/",
          "height": 242
        }
      },
      "source": [
        "grouped = frame['rank'].groupby(frame['cluster'])\n",
        "print (\"Average rank (1 to 100) per cluster:\")\n",
        "grouped.mean().to_frame()"
      ],
      "execution_count": 0,
      "outputs": [
        {
          "output_type": "stream",
          "text": [
            "Average rank (1 to 100) per cluster:\n"
          ],
          "name": "stdout"
        },
        {
          "output_type": "execute_result",
          "data": {
            "text/html": [
              "<div>\n",
              "<style scoped>\n",
              "    .dataframe tbody tr th:only-of-type {\n",
              "        vertical-align: middle;\n",
              "    }\n",
              "\n",
              "    .dataframe tbody tr th {\n",
              "        vertical-align: top;\n",
              "    }\n",
              "\n",
              "    .dataframe thead th {\n",
              "        text-align: right;\n",
              "    }\n",
              "</style>\n",
              "<table border=\"1\" class=\"dataframe\">\n",
              "  <thead>\n",
              "    <tr style=\"text-align: right;\">\n",
              "      <th></th>\n",
              "      <th>rank</th>\n",
              "    </tr>\n",
              "    <tr>\n",
              "      <th>cluster</th>\n",
              "      <th></th>\n",
              "    </tr>\n",
              "  </thead>\n",
              "  <tbody>\n",
              "    <tr>\n",
              "      <th>0</th>\n",
              "      <td>46.857143</td>\n",
              "    </tr>\n",
              "    <tr>\n",
              "      <th>1</th>\n",
              "      <td>55.097561</td>\n",
              "    </tr>\n",
              "    <tr>\n",
              "      <th>2</th>\n",
              "      <td>36.500000</td>\n",
              "    </tr>\n",
              "    <tr>\n",
              "      <th>3</th>\n",
              "      <td>53.823529</td>\n",
              "    </tr>\n",
              "    <tr>\n",
              "      <th>4</th>\n",
              "      <td>52.833333</td>\n",
              "    </tr>\n",
              "  </tbody>\n",
              "</table>\n",
              "</div>"
            ],
            "text/plain": [
              "              rank\n",
              "cluster           \n",
              "0        46.857143\n",
              "1        55.097561\n",
              "2        36.500000\n",
              "3        53.823529\n",
              "4        52.833333"
            ]
          },
          "metadata": {
            "tags": []
          },
          "execution_count": 24
        }
      ]
    },
    {
      "cell_type": "code",
      "metadata": {
        "id": "qWVJaKJX5Dvr",
        "colab_type": "code",
        "outputId": "f36b5a3d-2075-4089-edb9-2a4586a4b0f3",
        "colab": {
          "base_uri": "https://localhost:8080/",
          "height": 390
        }
      },
      "source": [
        "print (\"<Document clustering result by K-means>\")\n",
        "\n",
        "#km.cluster_centers_ denotes the importances of each items in centroid.\n",
        "#We need to sort it in decreasing-order and get the top k items.\n",
        "order_centroids = km.cluster_centers_.argsort()[:, ::-1] \n",
        "\n",
        "Cluster_keywords_summary = {}\n",
        "for i in range(num_clusters):\n",
        "    print (\"Cluster \" + str(i) + \" words:\", end='')\n",
        "    Cluster_keywords_summary[i] = []\n",
        "    for ind in order_centroids[i, :6]: #replace 6 with n words per cluster\n",
        "        Cluster_keywords_summary[i].append(vocab_frame_dict[tf_selected_words[ind]])\n",
        "        print (vocab_frame_dict[tf_selected_words[ind]] + \",\", end='')\n",
        "    print ()\n",
        "    #Here ix means index, which is the clusterID of each item.\n",
        "    #Without tolist, the values result from dataframe is <type 'numpy.ndarray'>\n",
        "    cluster_movies = frame.ix[i]['title'].values.tolist()\n",
        "    print (\"Cluster \" + str(i) + \" titles (\" + str(len(cluster_movies)) + \" movies): \") \n",
        "    print (\", \".join(cluster_movies))\n",
        "    print()"
      ],
      "execution_count": 0,
      "outputs": [
        {
          "output_type": "stream",
          "text": [
            "<Document clustering result by K-means>\n",
            "Cluster 0 words:mr.,filmed,singing,musical,love,parents,\n",
            "Cluster 0 titles (14 movies): \n",
            "Raging Bull, Citizen Kane, Titanic, 2001: A Space Odyssey, Singin' in the Rain, Amadeus, Gandhi, The Best Years of Our Lives, Mr. Smith Goes to Washington, Annie Hall, Nashville, The Graduate, The African Queen, A Clockwork Orange\n",
            "\n",
            "Cluster 1 words:car,killing,police,father,n't,meet,\n",
            "Cluster 1 titles (41 movies): \n",
            "The Godfather, The Wizard of Oz, The Godfather: Part II, Psycho, Sunset Blvd., Vertigo, On the Waterfront, West Side Story, The Silence of the Lambs, Chinatown, Some Like It Hot, Unforgiven, Rocky, To Kill a Mockingbird, My Fair Lady, Jaws, The Good, the Bad and the Ugly, Butch Cassidy and the Sundance Kid, The Treasure of the Sierra Madre, The Apartment, High Noon, Goodfellas, The Exorcist, The French Connection, It Happened One Night, Rain Man, Good Will Hunting, Fargo, The Grapes of Wrath, Shane, The Green Mile, Close Encounters of the Third Kind, American Graffiti, Pulp Fiction, The Maltese Falcon, Taxi Driver, Double Indemnity, Rebel Without a Cause, Rear Window, The Third Man, North by Northwest\n",
            "\n",
            "Cluster 2 words:soldiers,army,commanded,orders,killing,captain,\n",
            "Cluster 2 titles (22 movies): \n",
            "The Shawshank Redemption, Schindler's List, Casablanca, One Flew Over the Cuckoo's Nest, Lawrence of Arabia, The Sound of Music, Star Wars, The Bridge on the River Kwai, Dr. Strangelove or: How I Learned to Stop Worrying and Love the Bomb, Apocalypse Now, Gladiator, From Here to Eternity, Saving Private Ryan, Raiders of the Lost Ark, Patton, Platoon, Dances with Wolves, The Pianist, The Deer Hunter, All Quiet on the Western Front, Stagecoach, Mutiny on the Bounty\n",
            "\n",
            "Cluster 3 words:family,war,home,sister,son,mother,\n",
            "Cluster 3 titles (17 movies): \n",
            "Gone with the Wind, Forrest Gump, E.T. the Extra-Terrestrial, 12 Angry Men, The Lord of the Rings: The Return of the King, A Streetcar Named Desire, Ben-Hur, Doctor Zhivago, Braveheart, City Lights, Midnight Cowboy, Out of Africa, Terms of Endearment, Giant, Network, Wuthering Heights, Yankee Doodle Dandy\n",
            "\n",
            "Cluster 4 words:george,marries,family,woman,friend,john,\n",
            "Cluster 4 titles (6 movies): \n",
            "It's a Wonderful Life, The Philadelphia Story, An American in Paris, The King's Speech, A Place in the Sun, Tootsie\n",
            "\n"
          ],
          "name": "stdout"
        }
      ]
    },
    {
      "cell_type": "markdown",
      "metadata": {
        "id": "Ee3tpQuY8bcj",
        "colab_type": "text"
      },
      "source": [
        "It shows that the main topics of the 4 clusters of movies are: killing, family, wars & love"
      ]
    },
    {
      "cell_type": "markdown",
      "metadata": {
        "id": "mMv8dw0w8i9M",
        "colab_type": "text"
      },
      "source": [
        "##4.2. Plot K-means Result"
      ]
    },
    {
      "cell_type": "code",
      "metadata": {
        "id": "QSSH4fIM5G95",
        "colab_type": "code",
        "colab": {}
      },
      "source": [
        "pca = decomposition.PCA(n_components=2)\n",
        "tfidf_matrix_np=tfidf_matrix.toarray()\n",
        "pca.fit(tfidf_matrix_np)\n",
        "X = pca.transform(tfidf_matrix_np)\n",
        "\n",
        "xs, ys = X[:, 0], X[:, 1]\n",
        "\n",
        "#set up colors per clusters using a dict\n",
        "cluster_colors = {0: '#1b9e77', 1: '#d95f02', 2: '#7570b3', 3: '#e7298a', 4: '#66a61e'}\n",
        "#set up cluster names using a dict\n",
        "cluster_names = {}\n",
        "for i in range(num_clusters):\n",
        "    cluster_names[i] = \", \".join(Cluster_keywords_summary[i])"
      ],
      "execution_count": 0,
      "outputs": []
    },
    {
      "cell_type": "code",
      "metadata": {
        "id": "ETajFR805Jgz",
        "colab_type": "code",
        "outputId": "567bb33d-af9a-47b0-de9a-38ac67026e26",
        "colab": {
          "base_uri": "https://localhost:8080/",
          "height": 537
        }
      },
      "source": [
        "%matplotlib inline \n",
        "\n",
        "#create data frame with PCA cluster results\n",
        "df = pd.DataFrame(dict(x=xs, y=ys, label=clusters, title=titles)) \n",
        "groups = df.groupby(clusters)\n",
        "\n",
        "# set up plot\n",
        "fig, ax = plt.subplots(figsize=(16, 9))\n",
        "#Set color for each cluster/group\n",
        "for name, group in groups:\n",
        "    ax.plot(group.x, group.y, marker='o', linestyle='', ms=12, \n",
        "            label=cluster_names[name], color=cluster_colors[name], \n",
        "            mec='none')\n",
        "\n",
        "ax.legend(numpoints=1,loc=4)  #show legend with only 1 point, position is right bottom.\n",
        "\n",
        "plt.show() #show the plot"
      ],
      "execution_count": 0,
      "outputs": [
        {
          "output_type": "display_data",
          "data": {
            "image/png": "[encoded data removed]",
            "text/plain": [
              "<Figure size 1152x648 with 1 Axes>"
            ]
          },
          "metadata": {
            "tags": []
          }
        }
      ]
    },
    {
      "cell_type": "markdown",
      "metadata": {
        "id": "MWzmJV7f8nKW",
        "colab_type": "text"
      },
      "source": [
        "#Part 5: Topic Modeling - Latent Dirichlet Allocation\n",
        "I will use LDA to group the movies."
      ]
    },
    {
      "cell_type": "code",
      "metadata": {
        "id": "6dtmIEOJ5Nb9",
        "colab_type": "code",
        "colab": {}
      },
      "source": [
        "#Now we use synopses to build a 100*551 matrix (terms)\n",
        "terms_dict = {tf_selected_words[x]:x for x in range(len(tf_selected_words))}\n",
        "\n",
        "feature_matrix_synopses_tf = []\n",
        "for i in synopses:\n",
        "    current_doc_stats = [0] * len(tf_selected_words)\n",
        "    allwords_stemmed = tokenization_and_stemming(i)\n",
        "    for get_terms in allwords_stemmed:\n",
        "        if get_terms in tf_selected_words:\n",
        "            current_doc_stats[terms_dict[get_terms]] += 1\n",
        "    current_doc_stats = np.asarray(current_doc_stats)\n",
        "    feature_matrix_synopses_tf.append(current_doc_stats)\n",
        "    \n",
        "feature_matrix_synopses_tf = np.asarray(feature_matrix_synopses_tf)"
      ],
      "execution_count": 0,
      "outputs": []
    },
    {
      "cell_type": "code",
      "metadata": {
        "id": "BNSboAAQ5QwU",
        "colab_type": "code",
        "colab": {}
      },
      "source": [
        "model = lda.LDA(n_topics=5, n_iter=500, random_state=1)"
      ],
      "execution_count": 0,
      "outputs": []
    },
    {
      "cell_type": "markdown",
      "metadata": {
        "id": "3GiXZyuI8srd",
        "colab_type": "text"
      },
      "source": [
        "* \"model.topicword\" saves the importance of tf_selected_words in LDA model, i.e. words similarity matrix\n",
        "* The shape of \"model.topicword\" is (n_topics,num_of_selected_words)\n",
        "* \"model.doctopic\" saves the document topic results, i.e. document topic matrix.\n",
        "* The shape of \"model.doctopic\" is (num_of_documents, n_topics)"
      ]
    },
    {
      "cell_type": "code",
      "metadata": {
        "id": "LDzdTPNQ5Tba",
        "colab_type": "code",
        "outputId": "7abd4334-5e6e-4155-9714-3937cd45cf4d",
        "colab": {
          "base_uri": "https://localhost:8080/",
          "height": 958
        }
      },
      "source": [
        "model.fit(feature_matrix_synopses_tf)\n",
        "topic_word = model.topic_word_  # model.components_ also works\n",
        "n_top_words = 7\n",
        "\n",
        "topic_keywords_list = []\n",
        "for i, topic_dist in enumerate(topic_word):\n",
        "    #Here we select top(n_top_words-1)\n",
        "    lda_topic_words = np.array(tf_selected_words)[np.argsort(topic_dist)][:-n_top_words:-1] \n",
        "    for j in range(len(lda_topic_words)):\n",
        "        lda_topic_words[j] = vocab_frame_dict[lda_topic_words[j]]\n",
        "    topic_keywords_list.append(lda_topic_words.tolist())"
      ],
      "execution_count": 0,
      "outputs": [
        {
          "output_type": "stream",
          "text": [
            "INFO:lda:n_documents: 100\n",
            "INFO:lda:vocab_size: 538\n",
            "INFO:lda:n_words: 61218\n",
            "INFO:lda:n_topics: 5\n",
            "INFO:lda:n_iter: 500\n",
            "INFO:lda:<0> log likelihood: -484683\n",
            "INFO:lda:<10> log likelihood: -428330\n",
            "INFO:lda:<20> log likelihood: -412489\n",
            "INFO:lda:<30> log likelihood: -406790\n",
            "INFO:lda:<40> log likelihood: -403019\n",
            "INFO:lda:<50> log likelihood: -400070\n",
            "INFO:lda:<60> log likelihood: -398296\n",
            "INFO:lda:<70> log likelihood: -397266\n",
            "INFO:lda:<80> log likelihood: -395732\n",
            "INFO:lda:<90> log likelihood: -395476\n",
            "INFO:lda:<100> log likelihood: -394666\n",
            "INFO:lda:<110> log likelihood: -394617\n",
            "INFO:lda:<120> log likelihood: -393980\n",
            "INFO:lda:<130> log likelihood: -393121\n",
            "INFO:lda:<140> log likelihood: -392773\n",
            "INFO:lda:<150> log likelihood: -392559\n",
            "INFO:lda:<160> log likelihood: -392274\n",
            "INFO:lda:<170> log likelihood: -391875\n",
            "INFO:lda:<180> log likelihood: -392254\n",
            "INFO:lda:<190> log likelihood: -391966\n",
            "INFO:lda:<200> log likelihood: -391777\n",
            "INFO:lda:<210> log likelihood: -391467\n",
            "INFO:lda:<220> log likelihood: -391043\n",
            "INFO:lda:<230> log likelihood: -391624\n",
            "INFO:lda:<240> log likelihood: -391707\n",
            "INFO:lda:<250> log likelihood: -391696\n",
            "INFO:lda:<260> log likelihood: -391673\n",
            "INFO:lda:<270> log likelihood: -391540\n",
            "INFO:lda:<280> log likelihood: -391234\n",
            "INFO:lda:<290> log likelihood: -390801\n",
            "INFO:lda:<300> log likelihood: -391805\n",
            "INFO:lda:<310> log likelihood: -392021\n",
            "INFO:lda:<320> log likelihood: -391969\n",
            "INFO:lda:<330> log likelihood: -390905\n",
            "INFO:lda:<340> log likelihood: -391478\n",
            "INFO:lda:<350> log likelihood: -390938\n",
            "INFO:lda:<360> log likelihood: -390935\n",
            "INFO:lda:<370> log likelihood: -390741\n",
            "INFO:lda:<380> log likelihood: -391222\n",
            "INFO:lda:<390> log likelihood: -390952\n",
            "INFO:lda:<400> log likelihood: -390668\n",
            "INFO:lda:<410> log likelihood: -390701\n",
            "INFO:lda:<420> log likelihood: -390636\n",
            "INFO:lda:<430> log likelihood: -390205\n",
            "INFO:lda:<440> log likelihood: -390684\n",
            "INFO:lda:<450> log likelihood: -390519\n",
            "INFO:lda:<460> log likelihood: -390995\n",
            "INFO:lda:<470> log likelihood: -390638\n",
            "INFO:lda:<480> log likelihood: -390798\n",
            "INFO:lda:<490> log likelihood: -390844\n",
            "INFO:lda:<499> log likelihood: -390644\n"
          ],
          "name": "stderr"
        }
      ]
    },
    {
      "cell_type": "code",
      "metadata": {
        "id": "3jDBZvvh52ll",
        "colab_type": "code",
        "outputId": "0cdddb3a-9d41-45bc-da83-e92df7b6cfa7",
        "colab": {
          "base_uri": "https://localhost:8080/",
          "height": 390
        }
      },
      "source": [
        "doc_topic = model.doc_topic_\n",
        "topic_doc_dict = {}\n",
        "\n",
        "print (\"<Document clustering result by LDA>\")\n",
        "for i in range(len(doc_topic)):\n",
        "    topicID = doc_topic[i].argmax()\n",
        "    if topicID not in topic_doc_dict:\n",
        "        topic_doc_dict[topicID] = [titles[i]]\n",
        "    else:\n",
        "        topic_doc_dict[topicID].append(titles[i])\n",
        "for i in topic_doc_dict:\n",
        "    print (\"Cluster \" + str(i) + \" words: \" + \", \".join(topic_keywords_list[i]))\n",
        "    print (\"Cluster \" + str(i) + \" titles (\" + str(len(topic_doc_dict[i])) + \" movies): \")\n",
        "    print (', '.join(topic_doc_dict[i]))\n",
        "    print ()"
      ],
      "execution_count": 0,
      "outputs": [
        {
          "output_type": "stream",
          "text": [
            "<Document clustering result by LDA>\n",
            "Cluster 2 words: father, family, new, end, life, years\n",
            "Cluster 2 titles (28 movies): \n",
            "The Godfather, Casablanca, Citizen Kane, The Godfather: Part II, Sunset Blvd., Forrest Gump, The Sound of Music, Singin' in the Rain, Amadeus, A Streetcar Named Desire, The Best Years of Our Lives, Doctor Zhivago, Braveheart, The Good, the Bad and the Ugly, Goodfellas, City Lights, The King's Speech, A Place in the Sun, Midnight Cowboy, Mr. Smith Goes to Washington, Rain Man, Annie Hall, Out of Africa, Good Will Hunting, Terms of Endearment, Giant, Network, Yankee Doodle Dandy\n",
            "\n",
            "Cluster 4 words: killing, death, men, use, john, shooting\n",
            "Cluster 4 titles (23 movies): \n",
            "The Shawshank Redemption, On the Waterfront, Star Wars, 2001: A Space Odyssey, Chinatown, The Bridge on the River Kwai, 12 Angry Men, Gladiator, From Here to Eternity, Saving Private Ryan, Unforgiven, Raiders of the Lost Ark, To Kill a Mockingbird, Jaws, Butch Cassidy and the Sundance Kid, The Treasure of the Sierra Madre, Platoon, High Noon, The Deer Hunter, Shane, The Green Mile, Close Encounters of the Third Kind, Taxi Driver\n",
            "\n",
            "Cluster 0 words: george, war, soldiers, army, captain, commanded\n",
            "Cluster 0 titles (10 movies): \n",
            "Schindler's List, Lawrence of Arabia, It's a Wonderful Life, Dr. Strangelove or: How I Learned to Stop Worrying and Love the Bomb, Apocalypse Now, The Lord of the Rings: The Return of the King, Patton, Dances with Wolves, Stagecoach, Mutiny on the Bounty\n",
            "\n",
            "Cluster 3 words: n't, days, friend, comes, say, house\n",
            "Cluster 3 titles (26 movies): \n",
            "Raging Bull, One Flew Over the Cuckoo's Nest, Gone with the Wind, The Wizard of Oz, Psycho, Vertigo, West Side Story, E.T. the Extra-Terrestrial, Some Like It Hot, Gandhi, Rocky, The Philadelphia Story, An American in Paris, My Fair Lady, Ben-Hur, The Exorcist, All Quiet on the Western Front, Tootsie, The Grapes of Wrath, Nashville, American Graffiti, Pulp Fiction, The African Queen, A Clockwork Orange, Wuthering Heights, The Third Man\n",
            "\n",
            "Cluster 1 words: car, away, police, meet, helping, apartment\n",
            "Cluster 1 titles (13 movies): \n",
            "Titanic, The Silence of the Lambs, The Apartment, The Pianist, The French Connection, It Happened One Night, Fargo, The Graduate, The Maltese Falcon, Double Indemnity, Rebel Without a Cause, Rear Window, North by Northwest\n",
            "\n"
          ],
          "name": "stdout"
        }
      ]
    },
    {
      "cell_type": "markdown",
      "metadata": {
        "id": "e_DlijfB8_w5",
        "colab_type": "text"
      },
      "source": [
        "# Appendix: K-means¶"
      ]
    },
    {
      "cell_type": "code",
      "metadata": {
        "id": "HMNHy7HP55K9",
        "colab_type": "code",
        "outputId": "be6935a1-1ec2-433e-cfbe-534c6108522a",
        "colab": {
          "base_uri": "https://localhost:8080/",
          "height": 265
        }
      },
      "source": [
        "from sklearn.datasets.samples_generator import make_blobs\n",
        "X, y = make_blobs(n_samples=300, centers=4,\n",
        "                  random_state=0, cluster_std=0.60)\n",
        "plt.scatter(X[:, 0], X[:, 1], s=50);"
      ],
      "execution_count": 0,
      "outputs": [
        {
          "output_type": "display_data",
          "data": {
            "image/png": "[encoded data removed]",
            "text/plain": [
              "<Figure size 432x288 with 1 Axes>"
            ]
          },
          "metadata": {
            "tags": []
          }
        }
      ]
    },
    {
      "cell_type": "code",
      "metadata": {
        "id": "ZXEONVg658KS",
        "colab_type": "code",
        "outputId": "6e08e714-227e-411c-adce-6743db186d74",
        "colab": {
          "base_uri": "https://localhost:8080/",
          "height": 265
        }
      },
      "source": [
        "from sklearn.cluster import KMeans\n",
        "est = KMeans(4)  # 4 clusters\n",
        "est.fit(X)\n",
        "y_kmeans = est.predict(X)\n",
        "plt.scatter(X[:, 0], X[:, 1], c=y_kmeans, s=50);"
      ],
      "execution_count": 0,
      "outputs": [
        {
          "output_type": "display_data",
          "data": {
            "image/png": "[encoded data removed]",
            "text/plain": [
              "<Figure size 432x288 with 1 Axes>"
            ]
          },
          "metadata": {
            "tags": []
          }
        }
      ]
    },
    {
      "cell_type": "code",
      "metadata": {
        "id": "rK8xCtlc6ACt",
        "colab_type": "code",
        "colab": {}
      },
      "source": [
        ""
      ],
      "execution_count": 0,
      "outputs": []
    }
  ]
}